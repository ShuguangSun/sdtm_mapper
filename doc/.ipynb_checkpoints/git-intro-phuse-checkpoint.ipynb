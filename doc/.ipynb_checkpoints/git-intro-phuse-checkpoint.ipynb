{
 "cells": [
  {
   "cell_type": "markdown",
   "metadata": {
    "slideshow": {
     "slide_type": "slide"
    }
   },
   "source": [
    "# Quick Introduction of Git \n",
    "2019-02-01\n",
    "\n",
    "Sam Tomioka"
   ]
  },
  {
   "cell_type": "markdown",
   "metadata": {
    "slideshow": {
     "slide_type": "subslide"
    }
   },
   "source": [
    "# What is Git?\n",
    "\n",
    ">Git is a free and open source distributed version control system designed to handle everything from small to very large projects with speed and efficiency \n",
    "\n",
    "[Scott Chacon and Ben Straub. 2014. Pro Git (2nd ed.). Apress, Berkely, CA, USA.](https://git-scm.com/book/en/v2)"
   ]
  },
  {
   "cell_type": "markdown",
   "metadata": {
    "slideshow": {
     "slide_type": "subslide"
    }
   },
   "source": [
    "# Overview of GIT\n",
    "\n",
    "* Git is local\n",
    "* GitHub is remote\n",
    "* Share with others\n",
    "* Access other repositories\n",
    "* Backup for local repository"
   ]
  },
  {
   "cell_type": "markdown",
   "metadata": {
    "slideshow": {
     "slide_type": "subslide"
    }
   },
   "source": [
    "![](images/git-intro1.png)"
   ]
  },
  {
   "cell_type": "markdown",
   "metadata": {
    "slideshow": {
     "slide_type": "subslide"
    }
   },
   "source": [
    "# Tools"
   ]
  },
  {
   "cell_type": "markdown",
   "metadata": {
    "slideshow": {
     "slide_type": "fragment"
    }
   },
   "source": [
    "![](images/git-intro2.png)"
   ]
  },
  {
   "cell_type": "markdown",
   "metadata": {
    "slideshow": {
     "slide_type": "subslide"
    }
   },
   "source": [
    "# Use Git Bash 1\n",
    "\n",
    "![](images/git-intro3.png)\n",
    "\n",
    "Register your user name and email.\n",
    "\n",
    "```git\n",
    "$ git config  --global user.name 'Sam Tomioka'\n",
    "$ git config  --global user.email 'sam.tomioka@sunovion.com'\n",
    "\n",
    "```"
   ]
  },
  {
   "cell_type": "markdown",
   "metadata": {
    "slideshow": {
     "slide_type": "subslide"
    }
   },
   "source": [
    "# Use Git Bash 2\n",
    "\n",
    "Confirm your config file\n",
    "\n",
    "```git\n",
    "$ git config  --list\n",
    "\n",
    "```"
   ]
  },
  {
   "cell_type": "markdown",
   "metadata": {
    "slideshow": {
     "slide_type": "fragment"
    }
   },
   "source": [
    "![](images/git-intro4.png)"
   ]
  },
  {
   "cell_type": "markdown",
   "metadata": {
    "slideshow": {
     "slide_type": "subslide"
    }
   },
   "source": [
    "# Authenticate with GitHub\n",
    "\n",
    "`curl -H 'Authorization: token <MYTOKEN>'`\n",
    "\n",
    "`MYTOKEN` is your token. See [GitHub Documentation](https://help.github.com/articles/creating-a-personal-access-token-for-the-command-line/) how you can create your token."
   ]
  },
  {
   "cell_type": "markdown",
   "metadata": {
    "slideshow": {
     "slide_type": "subslide"
    }
   },
   "source": [
    "# Create GitHub Repo\n",
    "Start from scratch\n",
    "\n",
    "![](images/git-intro5.png)"
   ]
  },
  {
   "cell_type": "markdown",
   "metadata": {
    "slideshow": {
     "slide_type": "fragment"
    }
   },
   "source": [
    "Fork another repo\n",
    "\n",
    "![](images/git-intro6.png)"
   ]
  },
  {
   "cell_type": "markdown",
   "metadata": {
    "slideshow": {
     "slide_type": "subslide"
    }
   },
   "source": [
    "# Clone the repo\n",
    "- Copy to local repo, so you can contribute.\n",
    "- First, get the URL\n",
    "\n",
    "![](images/git-intro7.png)"
   ]
  },
  {
   "cell_type": "markdown",
   "metadata": {
    "slideshow": {
     "slide_type": "fragment"
    }
   },
   "source": [
    "- Navigate to a specific folder in your local system, then\n",
    "```git\n",
    "$ git clone https://github.com/stomioka/sdtm_mapper\n",
    "```"
   ]
  },
  {
   "cell_type": "markdown",
   "metadata": {
    "slideshow": {
     "slide_type": "subslide"
    }
   },
   "source": [
    "# Check local repo\n",
    "\n",
    "![](images/git-intro8.png) $\\leftarrow$\n",
    "\n",
    "![](images/git-intro9.png)"
   ]
  },
  {
   "cell_type": "markdown",
   "metadata": {
    "slideshow": {
     "slide_type": "subslide"
    }
   },
   "source": [
    "# Branches\n",
    "\n",
    "![](images/git-intro10.png)\n",
    "\n",
    "Image Source: https://github.com/hltfbk/EOP-1.0.2/wiki/EOP-Repository\n"
   ]
  },
  {
   "cell_type": "markdown",
   "metadata": {
    "slideshow": {
     "slide_type": "subslide"
    }
   },
   "source": [
    "## Create your branch\n",
    "- To create\n",
    "\n",
    "```git\n",
    "$ git branch your_branch\n",
    "```\n",
    "- To confirm\n",
    "\n",
    "```git\n",
    "$ git branch\n",
    "\n",
    "```\n",
    "\n",
    "![](images/git-intro11.png)"
   ]
  },
  {
   "cell_type": "markdown",
   "metadata": {
    "slideshow": {
     "slide_type": "subslide"
    }
   },
   "source": [
    "# Git Commands\n",
    "![](images/git-intro12.png)\n",
    "\n",
    "Image Source: https://kevintshoemaker.github.io/StatsChats/GIT_tutorial.html\n"
   ]
  },
  {
   "cell_type": "markdown",
   "metadata": {
    "slideshow": {
     "slide_type": "subslide"
    }
   },
   "source": [
    "# Pull Requests\n",
    "\n",
    "- To merge in your changes into other branch/repo\n",
    "- Send a pull/merge request from Github to the owner of the repository\n",
    "\n",
    "![](images/git-intro13.png)\n"
   ]
  },
  {
   "cell_type": "markdown",
   "metadata": {
    "slideshow": {
     "slide_type": "subslide"
    }
   },
   "source": [
    "# Pull Requests From Other Users\n",
    "1. Updates made in Forked Repo: [Fork and Pull Model](https://help.github.com/articles/about-collaborative-development-models/)\n",
    "    - Anyone can fork, update the objects\n",
    "    - Changes can be pulled into the source by the project maintainer\n",
    "    \n",
    "    \n",
    "2. Updates made within the same Repo: [Shared Repository  Model](https://help.github.com/articles/about-collaborative-development-models/)\n",
    "    - The owner of the repo can add collaborators via GitHub account email address\n",
    "    - Team van review pull requests, before changes can be pulled into the source."
   ]
  },
  {
   "cell_type": "markdown",
   "metadata": {
    "slideshow": {
     "slide_type": "subslide"
    }
   },
   "source": [
    "# Demo\n",
    "\n",
    "1. Create a new object\n",
    "2. Add to Index (Staging Area)\n",
    "    - `git add .` adds all new files.\n",
    "    - `git add -u` updates tracking for files that changed names or were deleted\n",
    "    - `git add -A` does both of the above\n",
    "3. Commit to local repo\n",
    "    - `git commit -m 'your message'` \n",
    "        - `-m` to add message. \n",
    "        - Alternatively, use Vi text editor. `:wq!` to save the message and clode Vi text.\n",
    "4. Push to remote repo\n",
    "    - `git add master` or `git add your-branch`\n",
    "5. Go to your branch or master\n",
    "    - `git checkout your-branch`\n",
    "    - `git checkout master`    "
   ]
  },
  {
   "cell_type": "markdown",
   "metadata": {
    "slideshow": {
     "slide_type": "subslide"
    }
   },
   "source": [
    "# Resource\n",
    "\n",
    "- [Pro Git Book](https://git-scm.com/book/en/v2)\n",
    "- [Git Documentation](https://git-scm.com/docs)\n"
   ]
  },
  {
   "cell_type": "code",
   "execution_count": null,
   "metadata": {},
   "outputs": [],
   "source": []
  }
 ],
 "metadata": {
  "kernelspec": {
   "display_name": "Python 3",
   "language": "python",
   "name": "python3"
  },
  "language_info": {
   "codemirror_mode": {
    "name": "ipython",
    "version": 3
   },
   "file_extension": ".py",
   "mimetype": "text/x-python",
   "name": "python",
   "nbconvert_exporter": "python",
   "pygments_lexer": "ipython3",
   "version": "3.6.7"
  }
 },
 "nbformat": 4,
 "nbformat_minor": 2
}
