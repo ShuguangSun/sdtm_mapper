{
 "cells": [
  {
   "cell_type": "code",
   "execution_count": 1,
   "metadata": {},
   "outputs": [
    {
     "name": "stdout",
     "output_type": "stream",
     "text": [
      "Uninstalling sdtm-mapper-0.0.1:\n",
      "  Successfully uninstalled sdtm-mapper-0.0.1\n"
     ]
    }
   ],
   "source": [
    "!pip uninstall -y sdtm_mapper"
   ]
  },
  {
   "cell_type": "code",
   "execution_count": 3,
   "metadata": {},
   "outputs": [
    {
     "name": "stdout",
     "output_type": "stream",
     "text": [
      "running install\n",
      "running bdist_egg\n",
      "running egg_info\n",
      "writing sdtm_mapper.egg-info\\PKG-INFO\n",
      "writing dependency_links to sdtm_mapper.egg-info\\dependency_links.txt\n",
      "writing requirements to sdtm_mapper.egg-info\\requires.txt\n",
      "writing top-level names to sdtm_mapper.egg-info\\top_level.txt\n",
      "reading manifest file 'sdtm_mapper.egg-info\\SOURCES.txt'\n",
      "reading manifest template 'MANIFEST.in'\n",
      "writing manifest file 'sdtm_mapper.egg-info\\SOURCES.txt'\n",
      "installing library code to build\\bdist.win-amd64\\egg\n",
      "running install_lib\n",
      "running build_py\n",
      "creating build\\bdist.win-amd64\\egg\n",
      "creating build\\bdist.win-amd64\\egg\\sdtm_mapper\n",
      "copying build\\lib\\sdtm_mapper\\elmolayer.py -> build\\bdist.win-amd64\\egg\\sdtm_mapper\n",
      "copying build\\lib\\sdtm_mapper\\SDTMMapper.py -> build\\bdist.win-amd64\\egg\\sdtm_mapper\n",
      "copying build\\lib\\sdtm_mapper\\SDTMModels.py -> build\\bdist.win-amd64\\egg\\sdtm_mapper\n",
      "copying build\\lib\\sdtm_mapper\\SDTMModels.py.bak -> build\\bdist.win-amd64\\egg\\sdtm_mapper\n",
      "copying build\\lib\\sdtm_mapper\\__init__.py -> build\\bdist.win-amd64\\egg\\sdtm_mapper\n",
      "byte-compiling build\\bdist.win-amd64\\egg\\sdtm_mapper\\elmolayer.py to elmolayer.cpython-37.pyc\n",
      "byte-compiling build\\bdist.win-amd64\\egg\\sdtm_mapper\\SDTMMapper.py to SDTMMapper.cpython-37.pyc\n",
      "byte-compiling build\\bdist.win-amd64\\egg\\sdtm_mapper\\SDTMModels.py to SDTMModels.cpython-37.pyc\n",
      "byte-compiling build\\bdist.win-amd64\\egg\\sdtm_mapper\\__init__.py to __init__.cpython-37.pyc\n",
      "creating build\\bdist.win-amd64\\egg\\EGG-INFO\n",
      "copying sdtm_mapper.egg-info\\PKG-INFO -> build\\bdist.win-amd64\\egg\\EGG-INFO\n",
      "copying sdtm_mapper.egg-info\\SOURCES.txt -> build\\bdist.win-amd64\\egg\\EGG-INFO\n",
      "copying sdtm_mapper.egg-info\\dependency_links.txt -> build\\bdist.win-amd64\\egg\\EGG-INFO\n",
      "copying sdtm_mapper.egg-info\\requires.txt -> build\\bdist.win-amd64\\egg\\EGG-INFO\n",
      "copying sdtm_mapper.egg-info\\top_level.txt -> build\\bdist.win-amd64\\egg\\EGG-INFO\n",
      "creating 'dist\\sdtm_mapper-0.0.1-py3.7.egg' and adding 'build\\bdist.win-amd64\\egg' to it\n",
      "removing 'build\\bdist.win-amd64\\egg' (and everything under it)\n",
      "Processing sdtm_mapper-0.0.1-py3.7.egg\n",
      "Copying sdtm_mapper-0.0.1-py3.7.egg to c:\\users\\stomioka\\appdata\\local\\continuum\\anaconda3\\lib\\site-packages\n",
      "Adding sdtm-mapper 0.0.1 to easy-install.pth file\n",
      "\n",
      "Installed c:\\users\\stomioka\\appdata\\local\\continuum\\anaconda3\\lib\\site-packages\\sdtm_mapper-0.0.1-py3.7.egg\n",
      "Processing dependencies for sdtm-mapper==0.0.1\n",
      "Searching for tensorflow_hub\n",
      "Reading https://pypi.org/simple/tensorflow_hub/\n",
      "Downloading https://files.pythonhosted.org/packages/5a/76/18c9aaf24f1b888bafa40351493815050e100098b4782d634b307fb1ebc8/tensorflow_hub-0.2.0-py2.py3-none-any.whl#sha256=41c3c231fa01a061fbc0def3b9f3b4f13379e442f080fec0810a994936fe68af\n",
      "Best match: tensorflow-hub 0.2.0\n",
      "Processing tensorflow_hub-0.2.0-py2.py3-none-any.whl\n",
      "Installing tensorflow_hub-0.2.0-py2.py3-none-any.whl to c:\\users\\stomioka\\appdata\\local\\continuum\\anaconda3\\lib\\site-packages\n",
      "writing requirements to c:\\users\\stomioka\\appdata\\local\\continuum\\anaconda3\\lib\\site-packages\\tensorflow_hub-0.2.0-py3.7.egg\\EGG-INFO\\requires.txt\n",
      "Adding tensorflow-hub 0.2.0 to easy-install.pth file\n",
      "\n",
      "Installed c:\\users\\stomioka\\appdata\\local\\continuum\\anaconda3\\lib\\site-packages\\tensorflow_hub-0.2.0-py3.7.egg\n",
      "Searching for tensorflow\n",
      "Reading https://pypi.org/simple/tensorflow/\n",
      "Downloading https://files.pythonhosted.org/packages/7b/14/e4538c2bc3ae9f4ce6f6ce7ef1180da05abc4a617afba798268232b01d0d/tensorflow-1.13.1-cp37-cp37m-win_amd64.whl#sha256=4325f20b5a703b80a5f7a8807f07ad8735025bd2a947093ffff1c26fbdc7980b\n",
      "Best match: tensorflow 1.13.1\n",
      "Processing tensorflow-1.13.1-cp37-cp37m-win_amd64.whl\n",
      "Installing tensorflow-1.13.1-cp37-cp37m-win_amd64.whl to c:\\users\\stomioka\\appdata\\local\\continuum\\anaconda3\\lib\\site-packages\n"
     ]
    },
    {
     "name": "stderr",
     "output_type": "stream",
     "text": [
      "zip_safe flag not set; analyzing archive contents...\n",
      "error: [Errno 2] No such file or directory: 'c:\\\\users\\\\stomioka\\\\appdata\\\\local\\\\continuum\\\\anaconda3\\\\lib\\\\site-packages\\\\tensorflow-1.13.1-py3.7-win-amd64.egg\\\\tensorflow-1.13.1.data\\\\purelib\\\\tensorflow\\\\include\\\\tensorflow\\\\include\\\\external\\\\eigen_archive\\\\Eigen\\\\src\\\\Core\\\\products\\\\GeneralMatrixMatrixTriangular_BLAS.h'\n"
     ]
    }
   ],
   "source": [
    "!python setup.py install"
   ]
  },
  {
   "cell_type": "code",
   "execution_count": null,
   "metadata": {},
   "outputs": [],
   "source": []
  }
 ],
 "metadata": {
  "kernelspec": {
   "display_name": "Python 3",
   "language": "python",
   "name": "python3"
  },
  "language_info": {
   "codemirror_mode": {
    "name": "ipython",
    "version": 3
   },
   "file_extension": ".py",
   "mimetype": "text/x-python",
   "name": "python",
   "nbconvert_exporter": "python",
   "pygments_lexer": "ipython3",
   "version": "3.7.0"
  }
 },
 "nbformat": 4,
 "nbformat_minor": 2
}
