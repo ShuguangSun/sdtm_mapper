{
  "nbformat": 4,
  "nbformat_minor": 0,
  "metadata": {
    "colab": {
      "name": "train-model.ipynb",
      "version": "0.3.2",
      "provenance": [],
      "collapsed_sections": [],
      "toc_visible": true
    },
    "kernelspec": {
      "name": "python3",
      "display_name": "Python 3"
    },
    "accelerator": "GPU"
  },
  "cells": [
    {
      "metadata": {
        "id": "6z6gxdnVoW1U",
        "colab_type": "text"
      },
      "cell_type": "markdown",
      "source": [
        "# Train your model on your own data with sdtm-mapper\n",
        "\n",
        "March 15, 2019\n",
        "## 1. About\n",
        "\n",
        "  This is a demo for training your model on your own data with pre-built models using python package `sdtm-mapper`. \n",
        "  Hyperparameter tuning part will be covered in the different tutorial.\n",
        "\n",
        "\n",
        "## 2. Steps\n",
        "\n",
        "  *     You may want to select GPU instance. In Google Colab, go to 'Runtime' $\\rightarrow$ 'Change runtime  type' $\\rightarrow$ select `GPU`.\n",
        "  * Load your training, validation, and test dataset in csv files.\n",
        "  \n",
        "  * select which pre-build model you want to use, OR you can add your own model architecture, or adjust hyperparameter settings in SDTMModel class.\n",
        "\n",
        "  * If you work in Colab, you will need to install sas7bdat, pathlib, and tensorflow_hub.\n",
        "\n",
        "\n",
        "\n"
      ]
    },
    {
      "metadata": {
        "id": "ywK7x7bdqUTF",
        "colab_type": "text"
      },
      "cell_type": "markdown",
      "source": [
        "## 3. Installation\n",
        "\n",
        "You will need to have `sas7bdat`, `tensorflow-hub`, and `pathlib` installed on Google Colab.\n"
      ]
    },
    {
      "metadata": {
        "id": "aTHaeEvTqGl1",
        "colab_type": "code",
        "outputId": "4da48f2d-1888-45b5-b89e-18fe11c2075d",
        "colab": {
          "base_uri": "https://localhost:8080/",
          "height": 136
        }
      },
      "cell_type": "code",
      "source": [
        "!pip install sas7bdat tensorflow-hub pathlib"
      ],
      "execution_count": 0,
      "outputs": [
        {
          "output_type": "stream",
          "text": [
            "Requirement already satisfied: sas7bdat in /usr/local/lib/python3.6/dist-packages (2.2.2)\n",
            "Requirement already satisfied: tensorflow-hub in /usr/local/lib/python3.6/dist-packages (0.3.0)\n",
            "Requirement already satisfied: pathlib in /usr/local/lib/python3.6/dist-packages (1.0.1)\n",
            "Requirement already satisfied: six>=1.8.0 in /usr/local/lib/python3.6/dist-packages (from sas7bdat) (1.11.0)\n",
            "Requirement already satisfied: numpy>=1.12.0 in /usr/local/lib/python3.6/dist-packages (from tensorflow-hub) (1.14.6)\n",
            "Requirement already satisfied: protobuf>=3.4.0 in /usr/local/lib/python3.6/dist-packages (from tensorflow-hub) (3.6.1)\n",
            "Requirement already satisfied: setuptools in /usr/local/lib/python3.6/dist-packages (from protobuf>=3.4.0->tensorflow-hub) (40.8.0)\n"
          ],
          "name": "stdout"
        }
      ]
    },
    {
      "metadata": {
        "id": "2GZzHkoGqCqb",
        "colab_type": "code",
        "outputId": "ee0d8145-f3ed-4c73-a436-918a6d75ee35",
        "colab": {
          "base_uri": "https://localhost:8080/",
          "height": 391
        }
      },
      "cell_type": "code",
      "source": [
        "!pip install sdtm-mapper"
      ],
      "execution_count": 0,
      "outputs": [
        {
          "output_type": "stream",
          "text": [
            "Requirement already satisfied: sdtm-mapper in /usr/local/lib/python3.6/dist-packages (0.3.8)\n",
            "Requirement already satisfied: sklearn in /usr/local/lib/python3.6/dist-packages (from sdtm-mapper) (0.0)\n",
            "Requirement already satisfied: pandas in /usr/local/lib/python3.6/dist-packages (from sdtm-mapper) (0.22.0)\n",
            "Requirement already satisfied: keras in /usr/local/lib/python3.6/dist-packages (from sdtm-mapper) (2.2.4)\n",
            "Requirement already satisfied: botocore in /usr/local/lib/python3.6/dist-packages (from sdtm-mapper) (1.12.106)\n",
            "Requirement already satisfied: boto3 in /usr/local/lib/python3.6/dist-packages (from sdtm-mapper) (1.9.106)\n",
            "Requirement already satisfied: numpy in /usr/local/lib/python3.6/dist-packages (from sdtm-mapper) (1.14.6)\n",
            "Requirement already satisfied: sas7bdat in /usr/local/lib/python3.6/dist-packages (from sdtm-mapper) (2.2.2)\n",
            "Requirement already satisfied: pathlib in /usr/local/lib/python3.6/dist-packages (from sdtm-mapper) (1.0.1)\n",
            "Requirement already satisfied: scikit-learn in /usr/local/lib/python3.6/dist-packages (from sklearn->sdtm-mapper) (0.20.3)\n",
            "Requirement already satisfied: python-dateutil>=2 in /usr/local/lib/python3.6/dist-packages (from pandas->sdtm-mapper) (2.5.3)\n",
            "Requirement already satisfied: pytz>=2011k in /usr/local/lib/python3.6/dist-packages (from pandas->sdtm-mapper) (2018.9)\n",
            "Requirement already satisfied: six>=1.9.0 in /usr/local/lib/python3.6/dist-packages (from keras->sdtm-mapper) (1.11.0)\n",
            "Requirement already satisfied: h5py in /usr/local/lib/python3.6/dist-packages (from keras->sdtm-mapper) (2.8.0)\n",
            "Requirement already satisfied: scipy>=0.14 in /usr/local/lib/python3.6/dist-packages (from keras->sdtm-mapper) (1.1.0)\n",
            "Requirement already satisfied: keras-applications>=1.0.6 in /usr/local/lib/python3.6/dist-packages (from keras->sdtm-mapper) (1.0.7)\n",
            "Requirement already satisfied: keras-preprocessing>=1.0.5 in /usr/local/lib/python3.6/dist-packages (from keras->sdtm-mapper) (1.0.9)\n",
            "Requirement already satisfied: pyyaml in /usr/local/lib/python3.6/dist-packages (from keras->sdtm-mapper) (3.13)\n",
            "Requirement already satisfied: jmespath<1.0.0,>=0.7.1 in /usr/local/lib/python3.6/dist-packages (from botocore->sdtm-mapper) (0.9.4)\n",
            "Requirement already satisfied: urllib3<1.25,>=1.20; python_version >= \"3.4\" in /usr/local/lib/python3.6/dist-packages (from botocore->sdtm-mapper) (1.22)\n",
            "Requirement already satisfied: docutils>=0.10 in /usr/local/lib/python3.6/dist-packages (from botocore->sdtm-mapper) (0.14)\n",
            "Requirement already satisfied: s3transfer<0.3.0,>=0.2.0 in /usr/local/lib/python3.6/dist-packages (from boto3->sdtm-mapper) (0.2.0)\n"
          ],
          "name": "stdout"
        }
      ]
    },
    {
      "metadata": {
        "id": "LTXoLkXaqRvt",
        "colab_type": "text"
      },
      "cell_type": "markdown",
      "source": [
        "## 4. Import necessary Package"
      ]
    },
    {
      "metadata": {
        "id": "JJp0la_XrZgi",
        "colab_type": "code",
        "outputId": "42d3326e-ed7a-4a97-f276-8909a4326083",
        "colab": {
          "base_uri": "https://localhost:8080/",
          "height": 68
        }
      },
      "cell_type": "code",
      "source": [
        "import pandas as pd\n",
        "import os\n",
        "import numpy as np\n",
        "import tensorflow as tf\n",
        "import tensorflow_hub as hub\n",
        "from keras import backend as K\n",
        "from keras.callbacks import ModelCheckpoint\n",
        "\n",
        "# Here you import sdtm_mapper\n",
        "import sdtm_mapper.SDTMModels as sdtm\n",
        "import sdtm_mapper.SDTMMapper as mapper\n",
        "from sdtm_mapper import samples\n",
        "\n",
        "bucket='snvn-sagemaker-1' #data bucket\n",
        "KEY='mldata/Sam/data/project/xxx-000/xxx/xxx-201/csr/data/raw/latest/'\n",
        "# Initialize session\n",
        "\n",
        "tf.keras.backend.clear_session()\n",
        "sess = tf.Session()\n",
        "K.set_session(sess)"
      ],
      "execution_count": 0,
      "outputs": [
        {
          "output_type": "stream",
          "text": [
            "WARNING: Logging before flag parsing goes to stderr.\n",
            "W0314 00:34:39.888021 140512926726016 __init__.py:56] Some hub symbols are not available because TensorFlow version is less than 1.14\n",
            "Using TensorFlow backend.\n"
          ],
          "name": "stderr"
        }
      ]
    },
    {
      "metadata": {
        "id": "HQJdEvXepsLb",
        "colab_type": "text"
      },
      "cell_type": "markdown",
      "source": [
        "## 5. Train the model\n",
        "\n",
        "  First, upload your **training data, validation data** and **test data**. \n",
        "\n",
        "  * X_train and y_train will be used for Training.\n",
        "\n",
        "  * X_valid and y_valid will be used for validation.\n",
        "\n",
        "  * I used 18 studies for Training, 3 studies for Validation\n",
        "\n",
        "\n",
        "  Let's look at the training data."
      ]
    },
    {
      "metadata": {
        "id": "tF0Xi2njpqi0",
        "colab_type": "code",
        "outputId": "2a2ad7d2-5a71-4742-e7cf-5a538a096a4c",
        "colab": {
          "base_uri": "https://localhost:8080/",
          "height": 204
        }
      },
      "cell_type": "code",
      "source": [
        "pd.read_csv('ae_validation.csv').head()"
      ],
      "execution_count": 0,
      "outputs": [
        {
          "output_type": "execute_result",
          "data": {
            "text/html": [
              "<div>\n",
              "<style scoped>\n",
              "    .dataframe tbody tr th:only-of-type {\n",
              "        vertical-align: middle;\n",
              "    }\n",
              "\n",
              "    .dataframe tbody tr th {\n",
              "        vertical-align: top;\n",
              "    }\n",
              "\n",
              "    .dataframe thead th {\n",
              "        text-align: right;\n",
              "    }\n",
              "</style>\n",
              "<table border=\"1\" class=\"dataframe\">\n",
              "  <thead>\n",
              "    <tr style=\"text-align: right;\">\n",
              "      <th></th>\n",
              "      <th>ID</th>\n",
              "      <th>text</th>\n",
              "      <th>sdtm</th>\n",
              "    </tr>\n",
              "  </thead>\n",
              "  <tbody>\n",
              "    <tr>\n",
              "      <th>0</th>\n",
              "      <td>S361203.AE.AESMIE</td>\n",
              "      <td>AESMIE OTHER MEDICALLY IMPORTANT SERIOUS EVENT</td>\n",
              "      <td>AESMIE</td>\n",
              "    </tr>\n",
              "    <tr>\n",
              "      <th>1</th>\n",
              "      <td>S361203.AE.AEOUT</td>\n",
              "      <td>AEOUT OUTCOME OF ADVERSE EVENT</td>\n",
              "      <td>AEOUT</td>\n",
              "    </tr>\n",
              "    <tr>\n",
              "      <th>2</th>\n",
              "      <td>S361203.AE.SUBJECTID</td>\n",
              "      <td>SUBJECTID INTERNAL ID FOR THE SUBJECT</td>\n",
              "      <td>DROP</td>\n",
              "    </tr>\n",
              "    <tr>\n",
              "      <th>3</th>\n",
              "      <td>S361203.AE.PROJECTID</td>\n",
              "      <td>PROJECTID PROJECTID</td>\n",
              "      <td>DROP</td>\n",
              "    </tr>\n",
              "    <tr>\n",
              "      <th>4</th>\n",
              "      <td>S361203.AE.AEENDAT_INT</td>\n",
              "      <td>AEENDAT INT END DATE OF ADVERSE EVENT INTERPOL...</td>\n",
              "      <td>DROP</td>\n",
              "    </tr>\n",
              "  </tbody>\n",
              "</table>\n",
              "</div>"
            ],
            "text/plain": [
              "                       ID                                               text  \\\n",
              "0       S361203.AE.AESMIE     AESMIE OTHER MEDICALLY IMPORTANT SERIOUS EVENT   \n",
              "1        S361203.AE.AEOUT                     AEOUT OUTCOME OF ADVERSE EVENT   \n",
              "2    S361203.AE.SUBJECTID              SUBJECTID INTERNAL ID FOR THE SUBJECT   \n",
              "3    S361203.AE.PROJECTID                                PROJECTID PROJECTID   \n",
              "4  S361203.AE.AEENDAT_INT  AEENDAT INT END DATE OF ADVERSE EVENT INTERPOL...   \n",
              "\n",
              "     sdtm  \n",
              "0  AESMIE  \n",
              "1   AEOUT  \n",
              "2    DROP  \n",
              "3    DROP  \n",
              "4    DROP  "
            ]
          },
          "metadata": {
            "tags": []
          },
          "execution_count": 4
        }
      ]
    },
    {
      "metadata": {
        "id": "QasaiCnGsG-T",
        "colab_type": "text"
      },
      "cell_type": "markdown",
      "source": [
        "Here we load the SDTMMapper object so we can start using some helper functions."
      ]
    },
    {
      "metadata": {
        "id": "0owafeTZp4dk",
        "colab_type": "code",
        "colab": {}
      },
      "cell_type": "code",
      "source": [
        "sdtmmap=mapper.SDTMMapper('ae', bucket, KEY)"
      ],
      "execution_count": 0,
      "outputs": []
    },
    {
      "metadata": {
        "id": "zv8M2K82skVe",
        "colab_type": "text"
      },
      "cell_type": "markdown",
      "source": [
        "Let's load training data, validation data, and test data contains your $X$ and perform basic pre-processing. \n",
        "\n",
        "`drop_sys_vars` will preprocess the metadat\n",
        "\n",
        "You can specify  variables with some `suffix` in which you want to exclude from training as in this example . Here I am excluding several variables ending with below suffix in regular expressions. These may be specific to Medidata Rave EDC Core Configurations.\n",
        "\n",
        "```\n",
        "suffix='.*_RAW$|.*_INT$|.*_STD$|.*_D{1,2}$|.*_M{1,2}$|.*_Y{1,4}|.*_CV$'\n",
        "```\n"
      ]
    },
    {
      "metadata": {
        "id": "xo-H_H6Vsjgt",
        "colab_type": "code",
        "colab": {}
      },
      "cell_type": "code",
      "source": [
        "suffix='.*_RAW$|.*_INT$|.*_STD$|.*_D{1,2}$|.*_M{1,2}$|.*_Y{1,4}|.*_CV$'\n",
        "trdropped, X_train, trdf= sdtmmap.drop_sys_vars('ae_training.csv', 'rave', suffix)\n",
        "vdropped,  X_valid, vdf = sdtmmap.drop_sys_vars('ae_validation.csv', 'rave', suffix)\n",
        "tdropped,  X_test,  tdf = sdtmmap.drop_sys_vars('ae_test_study.csv', 'rave', suffix)"
      ],
      "execution_count": 0,
      "outputs": []
    },
    {
      "metadata": {
        "id": "BTGjBYJYkem4",
        "colab_type": "text"
      },
      "cell_type": "markdown",
      "source": [
        "Encode $Y$ which contains sdtm variables with `encode_sdtm_target`. The second argument is the name of the encoding pickle file. It is saved in decode folder. You need to use appropriate pickle file to decode $\\hat{y}$\n",
        "\n",
        "Encoding can be decoded with `sdtmmap.decode_sdtm_target(Y)` later"
      ]
    },
    {
      "metadata": {
        "id": "6DLYZVY2kXIk",
        "colab_type": "code",
        "colab": {}
      },
      "cell_type": "code",
      "source": [
        "y_train = sdtmmap.encode_sdtm_target(trdf['sdtm'].str.upper(), 'train_encode')\n",
        "y_valid = sdtmmap.encode_sdtm_target(vdf['sdtm'].str.upper(), 'valid_encode')\n",
        "y_test  = sdtmmap.encode_sdtm_target(tdf['sdtm'].str.upper(), 'test_encode')"
      ],
      "execution_count": 0,
      "outputs": []
    },
    {
      "metadata": {
        "id": "VDnQSIqQkzJ0",
        "colab_type": "code",
        "outputId": "cf3d7a43-289a-425d-833d-ed8613b3e9dd",
        "colab": {
          "base_uri": "https://localhost:8080/",
          "height": 34
        }
      },
      "cell_type": "code",
      "source": [
        "trdf['sdtm'].shape, y_train.shape"
      ],
      "execution_count": 0,
      "outputs": [
        {
          "output_type": "execute_result",
          "data": {
            "text/plain": [
              "((584,), (584, 34))"
            ]
          },
          "metadata": {
            "tags": []
          },
          "execution_count": 8
        }
      ]
    },
    {
      "metadata": {
        "id": "xAeKOeaRjLbj",
        "colab_type": "text"
      },
      "cell_type": "markdown",
      "source": [
        "You may want to check the number of classes in the training and the validation."
      ]
    },
    {
      "metadata": {
        "id": "GYMcK9nuiJJM",
        "colab_type": "code",
        "outputId": "522ec4b8-af48-4720-d475-be6c45fe4629",
        "colab": {
          "base_uri": "https://localhost:8080/",
          "height": 51
        }
      },
      "cell_type": "code",
      "source": [
        "print(\"extra in training:   \",[i for i in set(trdf['sdtm']) if i not in  set(vdf['sdtm'])])\n",
        "print(\"extra in validation: \",[i for i in set(vdf['sdtm']) if i not in  set(trdf['sdtm'])])"
      ],
      "execution_count": 0,
      "outputs": [
        {
          "output_type": "stream",
          "text": [
            "extra in training:    []\n",
            "extra in validation:  []\n"
          ],
          "name": "stdout"
        }
      ]
    },
    {
      "metadata": {
        "id": "gdnbfLHDi7rs",
        "colab_type": "code",
        "outputId": "7b7491d4-9bb3-409d-e2f1-b14ed51e13da",
        "colab": {
          "base_uri": "https://localhost:8080/",
          "height": 51
        }
      },
      "cell_type": "code",
      "source": [
        "shape=len(set(trdf['sdtm']))\n",
        "print(\"Number of classes in training: \",shape)\n",
        "shape=len(set(vdf['sdtm']))\n",
        "print(\"Number of classes in validation: \",shape)"
      ],
      "execution_count": 0,
      "outputs": [
        {
          "output_type": "stream",
          "text": [
            "Number of classes in training:  34\n",
            "Number of classes in validation:  34\n"
          ],
          "name": "stdout"
        }
      ]
    },
    {
      "metadata": {
        "id": "9Uorzhkei9eY",
        "colab_type": "code",
        "outputId": "fbc6c301-6eb8-444f-aacd-8fb82ef62390",
        "colab": {
          "base_uri": "https://localhost:8080/",
          "height": 34
        }
      },
      "cell_type": "code",
      "source": [
        "X_train.shape, X_valid.shape"
      ],
      "execution_count": 0,
      "outputs": [
        {
          "output_type": "execute_result",
          "data": {
            "text/plain": [
              "((584,), (100,))"
            ]
          },
          "metadata": {
            "tags": []
          },
          "execution_count": 11
        }
      ]
    },
    {
      "metadata": {
        "id": "TdgYKUUCjUI3",
        "colab_type": "text"
      },
      "cell_type": "markdown",
      "source": [
        "\n",
        "Let's create a SDTMModels object and fit the model 1. \n",
        "\n",
        "**Here is the step:**\n",
        "1. Create a SDTMModels object. You will need to provide the domain name, and the number of classes.\n",
        "2. Build a model. Here I am calling a pre-build model 1. As a reminder, `sdtm-mapper` comes with three pre-build models. The second argument of `build_model` is boolean  value for the model summary.\n",
        "\n",
        "**Optional steps:**\n",
        "\n",
        "I will cover this part in another tutorial:\n",
        "1. You can adjust the hyperparameter of each pre-build models or you can add additional models in `SDTMModels` class, and call it with a first argument of `build_model` function. \n",
        "\n",
        "2. You could also create your own model here without using `build_model`, and once you satisfied with your model, you can add that to SDTMModels class. Please consider sharing your model architecture with others.\n",
        "\n",
        "3. Depends on your model, you may want to do additional transformation of $X$. E.g., if you are building RNN. LSTM etc, you need to tokenize, and adjust each sample to the same shape. \n",
        "\n"
      ]
    },
    {
      "metadata": {
        "id": "61oQPLFBjv4L",
        "colab_type": "code",
        "outputId": "cf129fd9-2f38-4571-ff54-1abf8276a1d8",
        "colab": {
          "base_uri": "https://localhost:8080/",
          "height": 632
        }
      },
      "cell_type": "code",
      "source": [
        "models=sdtm.SDTMModels('ae', shape)\n",
        "model1 = models.build_model(1, False)\n",
        "\n",
        "filepath='chkpt_Elmo+sfnn+ae+Model1.hdf5'\n",
        "\n",
        "checkpointer = ModelCheckpoint(filepath, monitor='val_acc', verbose=1, save_best_only=True, mode='max')\n",
        "\n",
        "history = model1.fit(X_train, y=y_train, batch_size=32, verbose=1, validation_data=(X_valid,y_valid), \n",
        "          shuffle=True, epochs=5, callbacks=[checkpointer])"
      ],
      "execution_count": 0,
      "outputs": [
        {
          "output_type": "stream",
          "text": [
            "WARNING:tensorflow:From /usr/local/lib/python3.6/dist-packages/tensorflow/python/ops/control_flow_ops.py:3632: colocate_with (from tensorflow.python.framework.ops) is deprecated and will be removed in a future version.\n",
            "Instructions for updating:\n",
            "Colocations handled automatically by placer.\n"
          ],
          "name": "stdout"
        },
        {
          "output_type": "stream",
          "text": [
            "W0314 00:34:52.803727 140512926726016 deprecation.py:323] From /usr/local/lib/python3.6/dist-packages/tensorflow/python/ops/control_flow_ops.py:3632: colocate_with (from tensorflow.python.framework.ops) is deprecated and will be removed in a future version.\n",
            "Instructions for updating:\n",
            "Colocations handled automatically by placer.\n"
          ],
          "name": "stderr"
        },
        {
          "output_type": "stream",
          "text": [
            "INFO:tensorflow:Saver not created because there are no variables in the graph to restore\n"
          ],
          "name": "stdout"
        },
        {
          "output_type": "stream",
          "text": [
            "I0314 00:34:53.638039 140512926726016 saver.py:1483] Saver not created because there are no variables in the graph to restore\n"
          ],
          "name": "stderr"
        },
        {
          "output_type": "stream",
          "text": [
            "WARNING:tensorflow:From /usr/local/lib/python3.6/dist-packages/tensorflow/python/ops/math_ops.py:3066: to_int32 (from tensorflow.python.ops.math_ops) is deprecated and will be removed in a future version.\n",
            "Instructions for updating:\n",
            "Use tf.cast instead.\n"
          ],
          "name": "stdout"
        },
        {
          "output_type": "stream",
          "text": [
            "W0314 00:34:53.850312 140512926726016 deprecation.py:323] From /usr/local/lib/python3.6/dist-packages/tensorflow/python/ops/math_ops.py:3066: to_int32 (from tensorflow.python.ops.math_ops) is deprecated and will be removed in a future version.\n",
            "Instructions for updating:\n",
            "Use tf.cast instead.\n"
          ],
          "name": "stderr"
        },
        {
          "output_type": "stream",
          "text": [
            "Train on 584 samples, validate on 100 samples\n",
            "Epoch 1/5\n",
            "584/584 [==============================] - 12s 21ms/step - loss: 2.9903 - acc: 0.2603 - val_loss: 1.8761 - val_acc: 0.5600\n",
            "\n",
            "Epoch 00001: val_acc improved from -inf to 0.56000, saving model to chkpt_Elmo+sfnn+ae+Model1.hdf5\n",
            "Epoch 2/5\n",
            "584/584 [==============================] - 6s 10ms/step - loss: 1.6370 - acc: 0.6318 - val_loss: 0.9586 - val_acc: 0.7500\n",
            "\n",
            "Epoch 00002: val_acc improved from 0.56000 to 0.75000, saving model to chkpt_Elmo+sfnn+ae+Model1.hdf5\n",
            "Epoch 3/5\n",
            "584/584 [==============================] - 6s 10ms/step - loss: 0.9908 - acc: 0.7500 - val_loss: 0.5579 - val_acc: 0.8700\n",
            "\n",
            "Epoch 00003: val_acc improved from 0.75000 to 0.87000, saving model to chkpt_Elmo+sfnn+ae+Model1.hdf5\n",
            "Epoch 4/5\n",
            "584/584 [==============================] - 6s 10ms/step - loss: 0.6517 - acc: 0.8562 - val_loss: 0.3370 - val_acc: 0.9600\n",
            "\n",
            "Epoch 00004: val_acc improved from 0.87000 to 0.96000, saving model to chkpt_Elmo+sfnn+ae+Model1.hdf5\n",
            "Epoch 5/5\n",
            "584/584 [==============================] - 5s 9ms/step - loss: 0.4458 - acc: 0.9178 - val_loss: 0.2536 - val_acc: 0.9700\n",
            "\n",
            "Epoch 00005: val_acc improved from 0.96000 to 0.97000, saving model to chkpt_Elmo+sfnn+ae+Model1.hdf5\n"
          ],
          "name": "stdout"
        }
      ]
    },
    {
      "metadata": {
        "id": "ocs_ALDFpAwQ",
        "colab_type": "text"
      },
      "cell_type": "markdown",
      "source": [
        "As you can see in the training and validation accuracy, we have higher accuracy in validation set than the training set, so you may want to increase the epoch size, and I would also reduce the batch size. You could also adjust the hyperparameters.\n",
        "\n"
      ]
    },
    {
      "metadata": {
        "id": "0cCQTJCFp33E",
        "colab_type": "code",
        "colab": {}
      },
      "cell_type": "code",
      "source": [
        "model1.save('Elmo+sfnn+ae+Model1.h5')"
      ],
      "execution_count": 0,
      "outputs": []
    },
    {
      "metadata": {
        "id": "6r58BVdgqDtU",
        "colab_type": "text"
      },
      "cell_type": "markdown",
      "source": [
        "# 6. Test the model on test set"
      ]
    },
    {
      "metadata": {
        "id": "bfBrT8uEqCVk",
        "colab_type": "code",
        "outputId": "cb8b8d24-66a3-407e-9b37-4ce6365d08c2",
        "colab": {
          "base_uri": "https://localhost:8080/",
          "height": 34
        }
      },
      "cell_type": "code",
      "source": [
        "def macro_acc_test_data(model, X_=X_test, testdf=tdf, droppeddf=tdropped ):\n",
        "    \n",
        "    predictions = model1.predict(X_)\n",
        "    testdf['pred']=sdtmmap.decode_sdtm_target(predictions, 'train_encode')\n",
        "    df=sdtmmap.add_drop(testdf,droppeddf)\n",
        "    return df, sum(df['sdtm']==df['pred'])/len(df)\n",
        "\n",
        "df, acc=macro_acc_test_data(model1)\n",
        "print(\"macro acc: \",acc)"
      ],
      "execution_count": 0,
      "outputs": [
        {
          "output_type": "stream",
          "text": [
            "macro acc:  0.9425287356321839\n"
          ],
          "name": "stdout"
        }
      ]
    },
    {
      "metadata": {
        "id": "SYx_UAEEqQWc",
        "colab_type": "text"
      },
      "cell_type": "markdown",
      "source": [
        "So, without any adjustment, we got 94.25 accuracy.  Let's check where the model made mistakes."
      ]
    },
    {
      "metadata": {
        "id": "oeDT7UZSqC1U",
        "colab_type": "code",
        "outputId": "6d5182cc-538f-4798-89d8-1e01086043fd",
        "colab": {
          "base_uri": "https://localhost:8080/",
          "height": 204
        }
      },
      "cell_type": "code",
      "source": [
        "\n",
        "df[df['sdtm']!=df['pred']]"
      ],
      "execution_count": 0,
      "outputs": [
        {
          "output_type": "execute_result",
          "data": {
            "text/html": [
              "<div>\n",
              "<style scoped>\n",
              "    .dataframe tbody tr th:only-of-type {\n",
              "        vertical-align: middle;\n",
              "    }\n",
              "\n",
              "    .dataframe tbody tr th {\n",
              "        vertical-align: top;\n",
              "    }\n",
              "\n",
              "    .dataframe thead th {\n",
              "        text-align: right;\n",
              "    }\n",
              "</style>\n",
              "<table border=\"1\" class=\"dataframe\">\n",
              "  <thead>\n",
              "    <tr style=\"text-align: right;\">\n",
              "      <th></th>\n",
              "      <th>ID</th>\n",
              "      <th>text</th>\n",
              "      <th>sdtm</th>\n",
              "      <th>pred</th>\n",
              "    </tr>\n",
              "  </thead>\n",
              "  <tbody>\n",
              "    <tr>\n",
              "      <th>4</th>\n",
              "      <td>LLT_NAME</td>\n",
              "      <td>LLT_NAME LLT_NAME</td>\n",
              "      <td>AELLT</td>\n",
              "      <td>AEHLGT</td>\n",
              "    </tr>\n",
              "    <tr>\n",
              "      <th>5</th>\n",
              "      <td>LLT_CODE</td>\n",
              "      <td>LLT_CODE LLT_CODE</td>\n",
              "      <td>AELLTCD</td>\n",
              "      <td>DROP</td>\n",
              "    </tr>\n",
              "    <tr>\n",
              "      <th>8</th>\n",
              "      <td>HLT_NAME</td>\n",
              "      <td>HLT_NAME HLT_NAME</td>\n",
              "      <td>AEHLT</td>\n",
              "      <td>DROP</td>\n",
              "    </tr>\n",
              "    <tr>\n",
              "      <th>17</th>\n",
              "      <td>AEENTIM</td>\n",
              "      <td>AEENTIM Stop Time</td>\n",
              "      <td>AEENDTC_TM</td>\n",
              "      <td>DROP</td>\n",
              "    </tr>\n",
              "    <tr>\n",
              "      <th>32</th>\n",
              "      <td>AESTTIMU</td>\n",
              "      <td>AESTTIMU Start Time Unknown</td>\n",
              "      <td>DROP</td>\n",
              "      <td>AESTDTC_TM</td>\n",
              "    </tr>\n",
              "  </tbody>\n",
              "</table>\n",
              "</div>"
            ],
            "text/plain": [
              "          ID                         text        sdtm        pred\n",
              "4   LLT_NAME            LLT_NAME LLT_NAME       AELLT      AEHLGT\n",
              "5   LLT_CODE            LLT_CODE LLT_CODE     AELLTCD        DROP\n",
              "8   HLT_NAME            HLT_NAME HLT_NAME       AEHLT        DROP\n",
              "17   AEENTIM            AEENTIM Stop Time  AEENDTC_TM        DROP\n",
              "32  AESTTIMU  AESTTIMU Start Time Unknown        DROP  AESTDTC_TM"
            ]
          },
          "metadata": {
            "tags": []
          },
          "execution_count": 16
        }
      ]
    },
    {
      "metadata": {
        "id": "3-qdpE79qh4E",
        "colab_type": "text"
      },
      "cell_type": "markdown",
      "source": [
        "The preparation of the training data and pre-processing are not so fun, but trying various techniques to improve the score is always fun!\n",
        "\n",
        "By adding more traing data or adjusting the hyperparameters or trying with different model architecture, the score should improve.  You may want to verify that your training data is clean and accurate. You may find that you made some mistakes by reviewing where the model made mistakes.\n",
        "\n",
        "If you are satisfied with what you got from the model, you can export it. You can also add the exported file and concatenate to the training set, so you can improve your model even better!"
      ]
    },
    {
      "metadata": {
        "id": "nxH944zkrHxw",
        "colab_type": "code",
        "colab": {}
      },
      "cell_type": "code",
      "source": [
        "\n",
        "df.to_csv('results.csv')"
      ],
      "execution_count": 0,
      "outputs": []
    },
    {
      "metadata": {
        "id": "lB3XUcy0rd9-",
        "colab_type": "code",
        "colab": {}
      },
      "cell_type": "code",
      "source": [
        ""
      ],
      "execution_count": 0,
      "outputs": []
    }
  ]
}