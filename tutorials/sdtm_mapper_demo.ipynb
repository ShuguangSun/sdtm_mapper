{
  "nbformat": 4,
  "nbformat_minor": 0,
  "metadata": {
    "colab": {
      "name": "Copy of sdtm_mapper_demo.ipynb",
      "version": "0.3.2",
      "provenance": [],
      "collapsed_sections": [],
      "toc_visible": true
    },
    "kernelspec": {
      "name": "python3",
      "display_name": "Python 3"
    }
  },
  "cells": [
    {
      "metadata": {
        "id": "1Z2mN8kz6vzb",
        "colab_type": "text"
      },
      "cell_type": "markdown",
      "source": [
        "# sdtm-mapper demo for PhUSE Machine Learning Project Sub Team Meeting\n",
        "March 1, 2019\n",
        "---\n",
        "\n",
        "\n",
        "## 1.  About\n",
        "\n",
        "This is the demo for python package `sdtm-mapper`. This is a tool for\n",
        "1. Generates a empty specifications for training data from a user provided SAS dataset. This empty specification will contain SAS dataset attributes. You don't need to use Proc Contents in SAS to do this!\n",
        "2. Run models to generate a mapping specifications.\n",
        "3.  Generates your own mapping models using your data. The models can be trained to generate the target variables but also programming sudo code.\n",
        "\n",
        "If you work in Colab, you will need to install sas7bdat, pathlib, and tensorflow_hub. \n",
        "\n",
        "## Requirements\n",
        "\n",
        "- boto3\n",
        "- sas7bdat\n",
        "- pandas\n",
        "- botocore\n",
        "- setuptools==39.1.0\n",
        "- numpy\n",
        "- Keras\n",
        "- scikit_learn\n",
        "- pathlib\n",
        "\n",
        "- TensorFlow can be installed either as CPU or GPU versions.\n",
        "\n",
        "  - tensorflow\t\t# CPU Version of TensorFlow.\n",
        "  -  tensorflow-gpu\t# GPU version of TensorFlow.\n",
        "\n",
        "- tensorflow_hub\n",
        "\n"
      ]
    },
    {
      "metadata": {
        "id": "oB_9LmJw9tYw",
        "colab_type": "text"
      },
      "cell_type": "markdown",
      "source": [
        "**Note** If you have to re-install, or to update to a new version of sdtm_mapper, it's better to uninstall it first!"
      ]
    },
    {
      "metadata": {
        "id": "hdORyc8Uf0fI",
        "colab_type": "code",
        "outputId": "2bb06a25-6f37-450f-af26-ea0ecb771964",
        "colab": {
          "base_uri": "https://localhost:8080/",
          "height": 51
        }
      },
      "cell_type": "code",
      "source": [
        "!pip uninstall -y sdtm_mapper"
      ],
      "execution_count": 0,
      "outputs": [
        {
          "output_type": "stream",
          "text": [
            "Uninstalling sdtm-mapper-0.3.6:\n",
            "  Successfully uninstalled sdtm-mapper-0.3.6\n"
          ],
          "name": "stdout"
        }
      ]
    },
    {
      "metadata": {
        "id": "YEN-NVma6sGF",
        "colab_type": "text"
      },
      "cell_type": "markdown",
      "source": [
        "## 2.  Installation"
      ]
    },
    {
      "metadata": {
        "id": "hA4JaeUjbG6N",
        "colab_type": "code",
        "colab": {}
      },
      "cell_type": "code",
      "source": [
        "#!pip --no-cache-dir install -i https://test.pypi.org/simple/ sdtm-mapper\n",
        "!pip install sdtm-mapper"
      ],
      "execution_count": 0,
      "outputs": []
    },
    {
      "metadata": {
        "id": "wFe4lEHGbIOP",
        "colab_type": "code",
        "outputId": "9f6579f3-969e-43db-86a4-35de121adc0d",
        "colab": {
          "base_uri": "https://localhost:8080/",
          "height": 34
        }
      },
      "cell_type": "code",
      "source": [
        "import tensorflow as tf\n",
        "import pandas as pd\n",
        "import tensorflow_hub as hub\n",
        "import os\n",
        "import re\n",
        "\n",
        "from sklearn.model_selection import train_test_split\n",
        "from sklearn.model_selection import cross_val_score\n",
        "from sklearn.metrics import accuracy_score\n",
        "from sklearn.metrics import cohen_kappa_score\n",
        "from sklearn.metrics import precision_recall_fscore_support\n",
        "from sklearn.metrics import classification_report\n",
        "\n",
        "from keras import backend as K\n",
        "import keras.layers as layers\n",
        "from keras.models import Model, load_model\n",
        "from keras.callbacks import ModelCheckpoint\n",
        "from keras.models import Sequential\n",
        "from keras.layers import Dense\n",
        "from keras.preprocessing.sequence import pad_sequences\n",
        "from keras.layers import Input, Dense, Dropout, Embedding, LSTM, Flatten\n",
        "from keras.models import Model\n",
        "from keras.utils import to_categorical, np_utils\n",
        "from keras.engine import Layer\n",
        "#from keras.esimator import model_to_estimator\n",
        "\n",
        "import numpy as np\n",
        "\n",
        "# Here you import sdtm_mapper\n",
        "import sdtm_mapper.SDTMModels as sdtm\n",
        "import sdtm_mapper.SDTMMapper as mapper\n",
        "from sdtm_mapper import samples\n",
        "\n",
        "bucket='snvn-sagemaker-1' #s3 bucket\n",
        "KEY='mldata/Sam/data/project/xxx-000/xxx/xxx-201/csr/data/raw/latest/' #Key in s3\n",
        "localpath='' # directory to the folder where the datasets are stored\n",
        "\n",
        "# Initialize session\n",
        "sess = tf.Session()\n",
        "K.set_session(sess)"
      ],
      "execution_count": 0,
      "outputs": [
        {
          "output_type": "stream",
          "text": [
            "Using TensorFlow backend.\n"
          ],
          "name": "stderr"
        }
      ]
    },
    {
      "metadata": {
        "id": "2wf6wg4n7jHn",
        "colab_type": "text"
      },
      "cell_type": "markdown",
      "source": [
        "## 3. Load mapper"
      ]
    },
    {
      "metadata": {
        "id": "MQ9cooisgtSj",
        "colab_type": "code",
        "colab": {}
      },
      "cell_type": "code",
      "source": [
        "sdtmmap=mapper.SDTMMapper('ae', True, bucket, KEY)"
      ],
      "execution_count": 0,
      "outputs": []
    },
    {
      "metadata": {
        "id": "F9difExu-ACX",
        "colab_type": "text"
      },
      "cell_type": "markdown",
      "source": [
        "### 3.1 Load sample model. \n",
        "\n",
        "I will load  model 3. See detail discussed [here](https://github.com/stomioka/sdtm_mapper)"
      ]
    },
    {
      "metadata": {
        "id": "UArqaR2D5S3v",
        "colab_type": "code",
        "outputId": "22666146-aab0-4c5c-e56b-eaa67a687ea4",
        "colab": {
          "base_uri": "https://localhost:8080/",
          "height": 122
        }
      },
      "cell_type": "code",
      "source": [
        "model=samples.load_sample_model(3)"
      ],
      "execution_count": 0,
      "outputs": [
        {
          "output_type": "stream",
          "text": [
            "INFO:tensorflow:Using /tmp/tfhub_modules to cache modules.\n",
            "WARNING:tensorflow:From /usr/local/lib/python3.6/dist-packages/tensorflow/python/ops/control_flow_ops.py:3632: colocate_with (from tensorflow.python.framework.ops) is deprecated and will be removed in a future version.\n",
            "Instructions for updating:\n",
            "Colocations handled automatically by placer.\n",
            "INFO:tensorflow:Saver not created because there are no variables in the graph to restore\n"
          ],
          "name": "stdout"
        }
      ]
    },
    {
      "metadata": {
        "id": "9hdPjeYt-Ooa",
        "colab_type": "text"
      },
      "cell_type": "markdown",
      "source": [
        "###3.2  Load sample test data"
      ]
    },
    {
      "metadata": {
        "id": "RsaGS4dY59Xg",
        "colab_type": "code",
        "colab": {}
      },
      "cell_type": "code",
      "source": [
        "ae=samples.load_sample_study(domain='ae')"
      ],
      "execution_count": 0,
      "outputs": []
    },
    {
      "metadata": {
        "id": "RzSvzBoB-mMa",
        "colab_type": "text"
      },
      "cell_type": "markdown",
      "source": [
        "Let's take a look at this `ae` dataframe."
      ]
    },
    {
      "metadata": {
        "id": "ztCeI8yH6DSQ",
        "colab_type": "code",
        "outputId": "a03fe3c0-9a75-4b28-e52d-4bb0e924871e",
        "colab": {
          "base_uri": "https://localhost:8080/",
          "height": 204
        }
      },
      "cell_type": "code",
      "source": [
        "ae.head()"
      ],
      "execution_count": 0,
      "outputs": [
        {
          "output_type": "execute_result",
          "data": {
            "text/html": [
              "<div>\n",
              "<style scoped>\n",
              "    .dataframe tbody tr th:only-of-type {\n",
              "        vertical-align: middle;\n",
              "    }\n",
              "\n",
              "    .dataframe tbody tr th {\n",
              "        vertical-align: top;\n",
              "    }\n",
              "\n",
              "    .dataframe thead th {\n",
              "        text-align: right;\n",
              "    }\n",
              "</style>\n",
              "<table border=\"1\" class=\"dataframe\">\n",
              "  <thead>\n",
              "    <tr style=\"text-align: right;\">\n",
              "      <th></th>\n",
              "      <th>ID</th>\n",
              "      <th>text</th>\n",
              "      <th>sdtm</th>\n",
              "    </tr>\n",
              "  </thead>\n",
              "  <tbody>\n",
              "    <tr>\n",
              "      <th>0</th>\n",
              "      <td>PROJECTID</td>\n",
              "      <td>PROJECTID projectid</td>\n",
              "      <td>DROP</td>\n",
              "    </tr>\n",
              "    <tr>\n",
              "      <th>1</th>\n",
              "      <td>PROJECT</td>\n",
              "      <td>PROJECT project</td>\n",
              "      <td>DROP</td>\n",
              "    </tr>\n",
              "    <tr>\n",
              "      <th>2</th>\n",
              "      <td>STUDYID</td>\n",
              "      <td>STUDYID Internal id for the study</td>\n",
              "      <td>DROP</td>\n",
              "    </tr>\n",
              "    <tr>\n",
              "      <th>3</th>\n",
              "      <td>ENVIRONMENTNAME</td>\n",
              "      <td>ENVIRONMENTNAME Environment</td>\n",
              "      <td>DROP</td>\n",
              "    </tr>\n",
              "    <tr>\n",
              "      <th>4</th>\n",
              "      <td>SUBJECTID</td>\n",
              "      <td>SUBJECTID Internal id for the subject</td>\n",
              "      <td>DROP</td>\n",
              "    </tr>\n",
              "  </tbody>\n",
              "</table>\n",
              "</div>"
            ],
            "text/plain": [
              "                ID                                   text  sdtm\n",
              "0        PROJECTID                    PROJECTID projectid  DROP\n",
              "1          PROJECT                        PROJECT project  DROP\n",
              "2          STUDYID      STUDYID Internal id for the study  DROP\n",
              "3  ENVIRONMENTNAME            ENVIRONMENTNAME Environment  DROP\n",
              "4        SUBJECTID  SUBJECTID Internal id for the subject  DROP"
            ]
          },
          "metadata": {
            "tags": []
          },
          "execution_count": 5
        }
      ]
    },
    {
      "metadata": {
        "id": "_dbmGno0BNA_",
        "colab_type": "text"
      },
      "cell_type": "markdown",
      "source": [
        "I will save this to 'test_data' folder. The 'HOME' directory in colab is 'content'."
      ]
    },
    {
      "metadata": {
        "id": "MTlTnmBiAZOs",
        "colab_type": "code",
        "colab": {}
      },
      "cell_type": "code",
      "source": [
        "if not os.path.exists('test_data'):\n",
        "    os.makedirs('test_data')\n",
        "    ae.to_csv('test_data/test_study_ae.csv')"
      ],
      "execution_count": 0,
      "outputs": []
    },
    {
      "metadata": {
        "id": "9Qbhsydp9ltq",
        "colab_type": "text"
      },
      "cell_type": "markdown",
      "source": [
        "You can generate a dataframe this dataframe with 'ID' and 'text' column from SAS7bdat using \n",
        "\n",
        "```python\n",
        "\n",
        "mapper.sas_metadata_to_csv('latin','test_study_ae.csv') # encoding of SAS7bdat, and output csv file.\n",
        "\n",
        "```\n",
        "\n",
        "## 3.3 Small pre-preocessing\n",
        "\n",
        "You can hard code what raw variables should be dropped with regular expressionin suffix.\n",
        "\n",
        "You need to specify what EDC system  used for your raw SAS dataset. Here I am specifying as **'rave'**. Currently this is the only EDC system supported.\n",
        "\n",
        "`drop_sys_vars` generates three outputs.\n",
        "\n",
        "1. A Pandas dataframe containing dropping variables,\n",
        "2. A Pandas Series of variable metadata excluding dropping variables.\n",
        "3. A Pandas dataframe of variable metadata excluding dropping variables.\n",
        "\n",
        "**Note:**  All letters will be also converted to lower case."
      ]
    },
    {
      "metadata": {
        "id": "k7QCmTgd_hNa",
        "colab_type": "code",
        "colab": {}
      },
      "cell_type": "code",
      "source": [
        "#Variables to be dropped with these suffic\n",
        "suffix='.*_RAW$|.*_INT$|.*_STD$|.*_D{1,2}$|.*_M{1,2}$|.*_Y{1,4}$' \n",
        "\n",
        "Dt, Xt, df=sdtmmap.drop_sys_vars(os.path.join('test_data','test_study_ae.csv'), 'rave',suffix) \n"
      ],
      "execution_count": 0,
      "outputs": []
    },
    {
      "metadata": {
        "id": "yX3O8dxmCBKP",
        "colab_type": "text"
      },
      "cell_type": "markdown",
      "source": [
        "Dt dataframe contains dropping variables. \n",
        "Xt is the input for the predictive model\n",
        "df is the dataframe contains everything except records in Dt."
      ]
    },
    {
      "metadata": {
        "id": "PXmbw7_rB4vz",
        "colab_type": "code",
        "outputId": "156bb944-6d08-4339-81af-84fe442922d6",
        "colab": {
          "base_uri": "https://localhost:8080/",
          "height": 204
        }
      },
      "cell_type": "code",
      "source": [
        "Dt.head()"
      ],
      "execution_count": 0,
      "outputs": [
        {
          "output_type": "execute_result",
          "data": {
            "text/html": [
              "<div>\n",
              "<style scoped>\n",
              "    .dataframe tbody tr th:only-of-type {\n",
              "        vertical-align: middle;\n",
              "    }\n",
              "\n",
              "    .dataframe tbody tr th {\n",
              "        vertical-align: top;\n",
              "    }\n",
              "\n",
              "    .dataframe thead th {\n",
              "        text-align: right;\n",
              "    }\n",
              "</style>\n",
              "<table border=\"1\" class=\"dataframe\">\n",
              "  <thead>\n",
              "    <tr style=\"text-align: right;\">\n",
              "      <th></th>\n",
              "      <th>Unnamed: 0</th>\n",
              "      <th>ID</th>\n",
              "      <th>text</th>\n",
              "      <th>sdtm</th>\n",
              "      <th>pred</th>\n",
              "    </tr>\n",
              "  </thead>\n",
              "  <tbody>\n",
              "    <tr>\n",
              "      <th>0</th>\n",
              "      <td>0</td>\n",
              "      <td>PROJECTID</td>\n",
              "      <td>PROJECTID projectid</td>\n",
              "      <td>DROP</td>\n",
              "      <td>DROP</td>\n",
              "    </tr>\n",
              "    <tr>\n",
              "      <th>1</th>\n",
              "      <td>1</td>\n",
              "      <td>PROJECT</td>\n",
              "      <td>PROJECT project</td>\n",
              "      <td>DROP</td>\n",
              "      <td>DROP</td>\n",
              "    </tr>\n",
              "    <tr>\n",
              "      <th>2</th>\n",
              "      <td>2</td>\n",
              "      <td>STUDYID</td>\n",
              "      <td>STUDYID Internal id for the study</td>\n",
              "      <td>DROP</td>\n",
              "      <td>DROP</td>\n",
              "    </tr>\n",
              "    <tr>\n",
              "      <th>3</th>\n",
              "      <td>3</td>\n",
              "      <td>ENVIRONMENTNAME</td>\n",
              "      <td>ENVIRONMENTNAME Environment</td>\n",
              "      <td>DROP</td>\n",
              "      <td>DROP</td>\n",
              "    </tr>\n",
              "    <tr>\n",
              "      <th>4</th>\n",
              "      <td>4</td>\n",
              "      <td>SUBJECTID</td>\n",
              "      <td>SUBJECTID Internal id for the subject</td>\n",
              "      <td>DROP</td>\n",
              "      <td>DROP</td>\n",
              "    </tr>\n",
              "  </tbody>\n",
              "</table>\n",
              "</div>"
            ],
            "text/plain": [
              "   Unnamed: 0               ID                                   text  sdtm  \\\n",
              "0           0        PROJECTID                    PROJECTID projectid  DROP   \n",
              "1           1          PROJECT                        PROJECT project  DROP   \n",
              "2           2          STUDYID      STUDYID Internal id for the study  DROP   \n",
              "3           3  ENVIRONMENTNAME            ENVIRONMENTNAME Environment  DROP   \n",
              "4           4        SUBJECTID  SUBJECTID Internal id for the subject  DROP   \n",
              "\n",
              "   pred  \n",
              "0  DROP  \n",
              "1  DROP  \n",
              "2  DROP  \n",
              "3  DROP  \n",
              "4  DROP  "
            ]
          },
          "metadata": {
            "tags": []
          },
          "execution_count": 8
        }
      ]
    },
    {
      "metadata": {
        "id": "LCmxomPlDFDS",
        "colab_type": "text"
      },
      "cell_type": "markdown",
      "source": [
        "Since this 'ae' file is a test file, it contains the ground truth."
      ]
    },
    {
      "metadata": {
        "id": "9lrJXuvIC5IX",
        "colab_type": "code",
        "outputId": "288f97e6-0503-4e34-e4ce-c929f1b62b93",
        "colab": {
          "base_uri": "https://localhost:8080/",
          "height": 204
        }
      },
      "cell_type": "code",
      "source": [
        "df.head()"
      ],
      "execution_count": 0,
      "outputs": [
        {
          "output_type": "execute_result",
          "data": {
            "text/html": [
              "<div>\n",
              "<style scoped>\n",
              "    .dataframe tbody tr th:only-of-type {\n",
              "        vertical-align: middle;\n",
              "    }\n",
              "\n",
              "    .dataframe tbody tr th {\n",
              "        vertical-align: top;\n",
              "    }\n",
              "\n",
              "    .dataframe thead th {\n",
              "        text-align: right;\n",
              "    }\n",
              "</style>\n",
              "<table border=\"1\" class=\"dataframe\">\n",
              "  <thead>\n",
              "    <tr style=\"text-align: right;\">\n",
              "      <th></th>\n",
              "      <th>Unnamed: 0</th>\n",
              "      <th>ID</th>\n",
              "      <th>text</th>\n",
              "      <th>sdtm</th>\n",
              "    </tr>\n",
              "  </thead>\n",
              "  <tbody>\n",
              "    <tr>\n",
              "      <th>0</th>\n",
              "      <td>6</td>\n",
              "      <td>SUBJECT</td>\n",
              "      <td>SUBJECT Subject name or identifier</td>\n",
              "      <td>SUBJID</td>\n",
              "    </tr>\n",
              "    <tr>\n",
              "      <th>1</th>\n",
              "      <td>13</td>\n",
              "      <td>INSTANCENAME</td>\n",
              "      <td>INSTANCENAME Folder instance name</td>\n",
              "      <td>DROP</td>\n",
              "    </tr>\n",
              "    <tr>\n",
              "      <th>2</th>\n",
              "      <td>29</td>\n",
              "      <td>AETERM</td>\n",
              "      <td>AETERM Reported Term for the Adverse Event</td>\n",
              "      <td>AETERM</td>\n",
              "    </tr>\n",
              "    <tr>\n",
              "      <th>3</th>\n",
              "      <td>30</td>\n",
              "      <td>VMEDDRA</td>\n",
              "      <td>VMEDDRA MedDRA Version Num</td>\n",
              "      <td>DROP</td>\n",
              "    </tr>\n",
              "    <tr>\n",
              "      <th>4</th>\n",
              "      <td>31</td>\n",
              "      <td>LLT_NAME</td>\n",
              "      <td>LLT_NAME LLT_NAME</td>\n",
              "      <td>AELLT</td>\n",
              "    </tr>\n",
              "  </tbody>\n",
              "</table>\n",
              "</div>"
            ],
            "text/plain": [
              "   Unnamed: 0            ID                                        text  \\\n",
              "0           6       SUBJECT          SUBJECT Subject name or identifier   \n",
              "1          13  INSTANCENAME           INSTANCENAME Folder instance name   \n",
              "2          29        AETERM  AETERM Reported Term for the Adverse Event   \n",
              "3          30       VMEDDRA                  VMEDDRA MedDRA Version Num   \n",
              "4          31      LLT_NAME                           LLT_NAME LLT_NAME   \n",
              "\n",
              "     sdtm  \n",
              "0  SUBJID  \n",
              "1    DROP  \n",
              "2  AETERM  \n",
              "3    DROP  \n",
              "4   AELLT  "
            ]
          },
          "metadata": {
            "tags": []
          },
          "execution_count": 9
        }
      ]
    },
    {
      "metadata": {
        "id": "E3Vh2_77Ch3n",
        "colab_type": "text"
      },
      "cell_type": "markdown",
      "source": [
        "## 4. Run the model\n",
        "This is to generate a target SDTM variables."
      ]
    },
    {
      "metadata": {
        "id": "DX1yGD79B_wc",
        "colab_type": "code",
        "colab": {}
      },
      "cell_type": "code",
      "source": [
        "output = model.predict(Xt)"
      ],
      "execution_count": 0,
      "outputs": []
    },
    {
      "metadata": {
        "id": "Clmt8GyMDSBK",
        "colab_type": "text"
      },
      "cell_type": "markdown",
      "source": [
        "In order to put the prediction into 'df' dataframe, we need to decode because X has been encoded."
      ]
    },
    {
      "metadata": {
        "id": "HIIO0a2NDymQ",
        "colab_type": "code",
        "colab": {}
      },
      "cell_type": "code",
      "source": [
        "samples.load_sample_decoder()\n"
      ],
      "execution_count": 0,
      "outputs": []
    },
    {
      "metadata": {
        "id": "2zp7vj5rDOu_",
        "colab_type": "code",
        "colab": {}
      },
      "cell_type": "code",
      "source": [
        "df['pred']=sdtmmap.decode_sdtm_target(output, 'sample_decoder')\n",
        "spec=sdtmmap.add_drop(df,Dt.loc[:,['ID','text', 'sdtm','pred']])"
      ],
      "execution_count": 0,
      "outputs": []
    },
    {
      "metadata": {
        "id": "wDIPtWP5KRg6",
        "colab_type": "text"
      },
      "cell_type": "markdown",
      "source": [
        "Let's take a look at the predictions!"
      ]
    },
    {
      "metadata": {
        "id": "WMDty1mTHhv6",
        "colab_type": "code",
        "outputId": "bf53291c-1fe0-485a-c1a2-b303dfa25524",
        "colab": {
          "base_uri": "https://localhost:8080/",
          "height": 204
        }
      },
      "cell_type": "code",
      "source": [
        "spec.head()"
      ],
      "execution_count": 0,
      "outputs": [
        {
          "output_type": "execute_result",
          "data": {
            "text/html": [
              "<div>\n",
              "<style scoped>\n",
              "    .dataframe tbody tr th:only-of-type {\n",
              "        vertical-align: middle;\n",
              "    }\n",
              "\n",
              "    .dataframe tbody tr th {\n",
              "        vertical-align: top;\n",
              "    }\n",
              "\n",
              "    .dataframe thead th {\n",
              "        text-align: right;\n",
              "    }\n",
              "</style>\n",
              "<table border=\"1\" class=\"dataframe\">\n",
              "  <thead>\n",
              "    <tr style=\"text-align: right;\">\n",
              "      <th></th>\n",
              "      <th>ID</th>\n",
              "      <th>Unnamed: 0</th>\n",
              "      <th>pred</th>\n",
              "      <th>sdtm</th>\n",
              "      <th>text</th>\n",
              "    </tr>\n",
              "  </thead>\n",
              "  <tbody>\n",
              "    <tr>\n",
              "      <th>0</th>\n",
              "      <td>SUBJECT</td>\n",
              "      <td>6.0</td>\n",
              "      <td>SUBJID</td>\n",
              "      <td>SUBJID</td>\n",
              "      <td>SUBJECT Subject name or identifier</td>\n",
              "    </tr>\n",
              "    <tr>\n",
              "      <th>1</th>\n",
              "      <td>INSTANCENAME</td>\n",
              "      <td>13.0</td>\n",
              "      <td>DROP</td>\n",
              "      <td>DROP</td>\n",
              "      <td>INSTANCENAME Folder instance name</td>\n",
              "    </tr>\n",
              "    <tr>\n",
              "      <th>2</th>\n",
              "      <td>AETERM</td>\n",
              "      <td>29.0</td>\n",
              "      <td>AETERM</td>\n",
              "      <td>AETERM</td>\n",
              "      <td>AETERM Reported Term for the Adverse Event</td>\n",
              "    </tr>\n",
              "    <tr>\n",
              "      <th>3</th>\n",
              "      <td>VMEDDRA</td>\n",
              "      <td>30.0</td>\n",
              "      <td>DROP</td>\n",
              "      <td>DROP</td>\n",
              "      <td>VMEDDRA MedDRA Version Num</td>\n",
              "    </tr>\n",
              "    <tr>\n",
              "      <th>4</th>\n",
              "      <td>LLT_NAME</td>\n",
              "      <td>31.0</td>\n",
              "      <td>AESEV</td>\n",
              "      <td>AELLT</td>\n",
              "      <td>LLT_NAME LLT_NAME</td>\n",
              "    </tr>\n",
              "  </tbody>\n",
              "</table>\n",
              "</div>"
            ],
            "text/plain": [
              "             ID  Unnamed: 0    pred    sdtm  \\\n",
              "0       SUBJECT         6.0  SUBJID  SUBJID   \n",
              "1  INSTANCENAME        13.0    DROP    DROP   \n",
              "2        AETERM        29.0  AETERM  AETERM   \n",
              "3       VMEDDRA        30.0    DROP    DROP   \n",
              "4      LLT_NAME        31.0   AESEV   AELLT   \n",
              "\n",
              "                                         text  \n",
              "0          SUBJECT Subject name or identifier  \n",
              "1           INSTANCENAME Folder instance name  \n",
              "2  AETERM Reported Term for the Adverse Event  \n",
              "3                  VMEDDRA MedDRA Version Num  \n",
              "4                           LLT_NAME LLT_NAME  "
            ]
          },
          "metadata": {
            "tags": []
          },
          "execution_count": 13
        }
      ]
    },
    {
      "metadata": {
        "id": "0hwkv2nOKb71",
        "colab_type": "text"
      },
      "cell_type": "markdown",
      "source": [
        "Check where the model made mistakes"
      ]
    },
    {
      "metadata": {
        "id": "4lST9k1pKcnd",
        "colab_type": "code",
        "outputId": "fb21e7b3-3089-4d57-a7d7-548db58b0632",
        "colab": {
          "base_uri": "https://localhost:8080/",
          "height": 142
        }
      },
      "cell_type": "code",
      "source": [
        "spec[spec['sdtm']!=spec['pred']]"
      ],
      "execution_count": 0,
      "outputs": [
        {
          "output_type": "execute_result",
          "data": {
            "text/html": [
              "<div>\n",
              "<style scoped>\n",
              "    .dataframe tbody tr th:only-of-type {\n",
              "        vertical-align: middle;\n",
              "    }\n",
              "\n",
              "    .dataframe tbody tr th {\n",
              "        vertical-align: top;\n",
              "    }\n",
              "\n",
              "    .dataframe thead th {\n",
              "        text-align: right;\n",
              "    }\n",
              "</style>\n",
              "<table border=\"1\" class=\"dataframe\">\n",
              "  <thead>\n",
              "    <tr style=\"text-align: right;\">\n",
              "      <th></th>\n",
              "      <th>ID</th>\n",
              "      <th>Unnamed: 0</th>\n",
              "      <th>pred</th>\n",
              "      <th>sdtm</th>\n",
              "      <th>text</th>\n",
              "    </tr>\n",
              "  </thead>\n",
              "  <tbody>\n",
              "    <tr>\n",
              "      <th>4</th>\n",
              "      <td>LLT_NAME</td>\n",
              "      <td>31.0</td>\n",
              "      <td>AESEV</td>\n",
              "      <td>AELLT</td>\n",
              "      <td>LLT_NAME LLT_NAME</td>\n",
              "    </tr>\n",
              "    <tr>\n",
              "      <th>9</th>\n",
              "      <td>HLT_CODE</td>\n",
              "      <td>36.0</td>\n",
              "      <td>AEHLT</td>\n",
              "      <td>AEHLTCD</td>\n",
              "      <td>HLT_CODE HLT_CODE</td>\n",
              "    </tr>\n",
              "    <tr>\n",
              "      <th>17</th>\n",
              "      <td>AEENTIM</td>\n",
              "      <td>54.0</td>\n",
              "      <td>DROP</td>\n",
              "      <td>AEENDTC_TM</td>\n",
              "      <td>AEENTIM Stop Time</td>\n",
              "    </tr>\n",
              "  </tbody>\n",
              "</table>\n",
              "</div>"
            ],
            "text/plain": [
              "          ID  Unnamed: 0   pred        sdtm               text\n",
              "4   LLT_NAME        31.0  AESEV       AELLT  LLT_NAME LLT_NAME\n",
              "9   HLT_CODE        36.0  AEHLT     AEHLTCD  HLT_CODE HLT_CODE\n",
              "17   AEENTIM        54.0   DROP  AEENDTC_TM  AEENTIM Stop Time"
            ]
          },
          "metadata": {
            "tags": []
          },
          "execution_count": 14
        }
      ]
    },
    {
      "metadata": {
        "id": "hmdX8My9L8OF",
        "colab_type": "text"
      },
      "cell_type": "markdown",
      "source": [
        "So it made 3 mistakes. "
      ]
    },
    {
      "metadata": {
        "id": "8ibcjDK2LqiX",
        "colab_type": "code",
        "outputId": "0e1f5e79-769e-496b-bbb3-fac98e080cb0",
        "colab": {
          "base_uri": "https://localhost:8080/",
          "height": 34
        }
      },
      "cell_type": "code",
      "source": [
        "(len(spec)-3)/len(spec)"
      ],
      "execution_count": 0,
      "outputs": [
        {
          "output_type": "execute_result",
          "data": {
            "text/plain": [
              "0.9655172413793104"
            ]
          },
          "metadata": {
            "tags": []
          },
          "execution_count": 15
        }
      ]
    },
    {
      "metadata": {
        "id": "2O0yYa5FKLT3",
        "colab_type": "code",
        "colab": {}
      },
      "cell_type": "code",
      "source": [
        "tf.keras.backend.clear_session()"
      ],
      "execution_count": 0,
      "outputs": []
    },
    {
      "metadata": {
        "id": "yoa_S3vCMcFd",
        "colab_type": "text"
      },
      "cell_type": "markdown",
      "source": [
        "## How can you create your training data?"
      ]
    },
    {
      "metadata": {
        "id": "t4vRes4jM347",
        "colab_type": "code",
        "colab": {}
      },
      "cell_type": "code",
      "source": [
        "createspec=mapper.SDTMMapper('ae', False, 'ae.sas7bdat')"
      ],
      "execution_count": 0,
      "outputs": []
    },
    {
      "metadata": {
        "id": "tmexOGjJNqfY",
        "colab_type": "text"
      },
      "cell_type": "markdown",
      "source": [
        "sas_metadata_to_csv(encode, out_csv_file) will read SAS dataset and get the attributes in csv and dataframe."
      ]
    },
    {
      "metadata": {
        "id": "47TExd27NRsQ",
        "colab_type": "code",
        "colab": {}
      },
      "cell_type": "code",
      "source": [
        "sample_dataset=createspec.sas_metadata_to_csv('latin', 'sample_spec_template.csv')"
      ],
      "execution_count": 0,
      "outputs": []
    },
    {
      "metadata": {
        "id": "FXD53eKnNepx",
        "colab_type": "code",
        "outputId": "a60b606a-246a-42d8-9577-3530db94a6f8",
        "colab": {
          "base_uri": "https://localhost:8080/",
          "height": 204
        }
      },
      "cell_type": "code",
      "source": [
        "sample_dataset.head()"
      ],
      "execution_count": 0,
      "outputs": [
        {
          "output_type": "execute_result",
          "data": {
            "text/html": [
              "<div>\n",
              "<style scoped>\n",
              "    .dataframe tbody tr th:only-of-type {\n",
              "        vertical-align: middle;\n",
              "    }\n",
              "\n",
              "    .dataframe tbody tr th {\n",
              "        vertical-align: top;\n",
              "    }\n",
              "\n",
              "    .dataframe thead th {\n",
              "        text-align: right;\n",
              "    }\n",
              "</style>\n",
              "<table border=\"1\" class=\"dataframe\">\n",
              "  <thead>\n",
              "    <tr style=\"text-align: right;\">\n",
              "      <th></th>\n",
              "      <th>ID</th>\n",
              "      <th>text</th>\n",
              "    </tr>\n",
              "  </thead>\n",
              "  <tbody>\n",
              "    <tr>\n",
              "      <th>0</th>\n",
              "      <td>PROJECTID</td>\n",
              "      <td>PROJECTID projectid</td>\n",
              "    </tr>\n",
              "    <tr>\n",
              "      <th>1</th>\n",
              "      <td>PROJECT</td>\n",
              "      <td>PROJECT project</td>\n",
              "    </tr>\n",
              "    <tr>\n",
              "      <th>2</th>\n",
              "      <td>STUDYID</td>\n",
              "      <td>STUDYID Internal id for the study</td>\n",
              "    </tr>\n",
              "    <tr>\n",
              "      <th>3</th>\n",
              "      <td>ENVIRONMENTNAME</td>\n",
              "      <td>ENVIRONMENTNAME Environment</td>\n",
              "    </tr>\n",
              "    <tr>\n",
              "      <th>4</th>\n",
              "      <td>SUBJECTID</td>\n",
              "      <td>SUBJECTID Internal id for the subject</td>\n",
              "    </tr>\n",
              "  </tbody>\n",
              "</table>\n",
              "</div>"
            ],
            "text/plain": [
              "                ID                                   text\n",
              "0        PROJECTID                    PROJECTID projectid\n",
              "1          PROJECT                        PROJECT project\n",
              "2          STUDYID      STUDYID Internal id for the study\n",
              "3  ENVIRONMENTNAME            ENVIRONMENTNAME Environment\n",
              "4        SUBJECTID  SUBJECTID Internal id for the subject"
            ]
          },
          "metadata": {
            "tags": []
          },
          "execution_count": 19
        }
      ]
    },
    {
      "metadata": {
        "id": "-yBNBNGTNohp",
        "colab_type": "code",
        "colab": {}
      },
      "cell_type": "code",
      "source": [
        ""
      ],
      "execution_count": 0,
      "outputs": []
    }
  ]
}