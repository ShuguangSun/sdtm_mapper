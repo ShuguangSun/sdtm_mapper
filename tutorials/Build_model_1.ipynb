{
 "cells": [
  {
   "cell_type": "markdown",
   "metadata": {},
   "source": [
    "# SDTM Mapping Model based on Task Specific ELMo  \n",
    "## Model 1"
   ]
  },
  {
   "cell_type": "code",
   "execution_count": 1,
   "metadata": {},
   "outputs": [
    {
     "name": "stderr",
     "output_type": "stream",
     "text": [
      "Using TensorFlow backend.\n"
     ]
    }
   ],
   "source": [
    "import tensorflow as tf\n",
    "import pandas as pd\n",
    "import tensorflow_hub as hub\n",
    "import os\n",
    "import re\n",
    "import sys\n",
    "from sklearn.model_selection import cross_val_score\n",
    "from sklearn.metrics import accuracy_score\n",
    "from sklearn.metrics import cohen_kappa_score\n",
    "from sklearn.metrics import precision_recall_fscore_support\n",
    "from sklearn.metrics import classification_report\n",
    "from keras import backend as K\n",
    "import keras.layers as layers\n",
    "from keras.models import Model, load_model\n",
    "from keras.callbacks import ModelCheckpoint\n",
    "from keras.models import Sequential\n",
    "from keras.layers import Dense\n",
    "from keras.preprocessing.sequence import pad_sequences\n",
    "from keras.layers import Input, Dense, Dropout, Embedding, LSTM, Flatten\n",
    "from keras.models import Model\n",
    "from keras.utils import to_categorical, np_utils\n",
    "from keras.engine import Layer\n",
    "#from keras.esimator import model_to_estimator\n",
    "import numpy as np\n",
    "\n",
    "from SDTMMapper import SDTMMapper, SDTMModels\n",
    "\n",
    "bucket='snvn-sagemaker-1' #data bucket\n",
    "KEY='mldata/Sam/data/project/xxx-000/xxx/xxx-201/csr/data/raw/latest/'\n",
    "# Initialize session\n",
    "\n",
    "tf.keras.backend.clear_session()\n",
    "sess = tf.Session()\n",
    "K.set_session(sess)\n"
   ]
  },
  {
   "cell_type": "markdown",
   "metadata": {},
   "source": [
    "# Data"
   ]
  },
  {
   "cell_type": "code",
   "execution_count": 2,
   "metadata": {},
   "outputs": [
    {
     "data": {
      "text/html": [
       "<div>\n",
       "<style scoped>\n",
       "    .dataframe tbody tr th:only-of-type {\n",
       "        vertical-align: middle;\n",
       "    }\n",
       "\n",
       "    .dataframe tbody tr th {\n",
       "        vertical-align: top;\n",
       "    }\n",
       "\n",
       "    .dataframe thead th {\n",
       "        text-align: right;\n",
       "    }\n",
       "</style>\n",
       "<table border=\"1\" class=\"dataframe\">\n",
       "  <thead>\n",
       "    <tr style=\"text-align: right;\">\n",
       "      <th></th>\n",
       "      <th>ID</th>\n",
       "      <th>text</th>\n",
       "      <th>sdtm</th>\n",
       "    </tr>\n",
       "  </thead>\n",
       "  <tbody>\n",
       "    <tr>\n",
       "      <th>0</th>\n",
       "      <td>xxx203.AE.SUBJECTID</td>\n",
       "      <td>SUBJECTID INTERNAL ID FOR THE SUBJECT</td>\n",
       "      <td>DROP</td>\n",
       "    </tr>\n",
       "    <tr>\n",
       "      <th>1</th>\n",
       "      <td>xxx203.AE.AESTDTC_RAW</td>\n",
       "      <td>AESTDTC RAW START DATE (DD MMM YYYY) (RAW)</td>\n",
       "      <td>DROP</td>\n",
       "    </tr>\n",
       "    <tr>\n",
       "      <th>2</th>\n",
       "      <td>xxx203.AE.AEACN</td>\n",
       "      <td>AEACN ACTION TAKEN WITH STUDY TREATMENT</td>\n",
       "      <td>AEACN</td>\n",
       "    </tr>\n",
       "    <tr>\n",
       "      <th>3</th>\n",
       "      <td>xxx203.AE.AETERM_LLT_CODE</td>\n",
       "      <td>AETERM LLT CODE AETERMLLT CODE</td>\n",
       "      <td>AELLTCD</td>\n",
       "    </tr>\n",
       "    <tr>\n",
       "      <th>4</th>\n",
       "      <td>xxx203.AE.AESER_STD</td>\n",
       "      <td>AESER STD SERIOUS EVENT (IF 'YES', COMPLETE A ...</td>\n",
       "      <td>DROP</td>\n",
       "    </tr>\n",
       "  </tbody>\n",
       "</table>\n",
       "</div>"
      ],
      "text/plain": [
       "                          ID  \\\n",
       "0        xxx203.AE.SUBJECTID   \n",
       "1      xxx203.AE.AESTDTC_RAW   \n",
       "2            xxx203.AE.AEACN   \n",
       "3  xxx203.AE.AETERM_LLT_CODE   \n",
       "4        xxx203.AE.AESER_STD   \n",
       "\n",
       "                                                text     sdtm  \n",
       "0              SUBJECTID INTERNAL ID FOR THE SUBJECT     DROP  \n",
       "1         AESTDTC RAW START DATE (DD MMM YYYY) (RAW)     DROP  \n",
       "2            AEACN ACTION TAKEN WITH STUDY TREATMENT    AEACN  \n",
       "3                     AETERM LLT CODE AETERMLLT CODE  AELLTCD  \n",
       "4  AESER STD SERIOUS EVENT (IF 'YES', COMPLETE A ...     DROP  "
      ]
     },
     "execution_count": 2,
     "metadata": {},
     "output_type": "execute_result"
    }
   ],
   "source": [
    "trdf = pd.read_csv('../train_data/ae_training.csv')\n",
    "trdf.head()"
   ]
  },
  {
   "cell_type": "markdown",
   "metadata": {},
   "source": [
    "- Generate pickle for target SDTM vars used for decoder. \n",
    "- **Note:** This needs to be recreated when new class variables are added.\n"
   ]
  },
  {
   "cell_type": "markdown",
   "metadata": {},
   "source": [
    "trdf['sdtm'].to_pickle('decode/ae.pkl')"
   ]
  },
  {
   "cell_type": "markdown",
   "metadata": {},
   "source": [
    "Create 'clean' for training, and 'dropped' contains dropping variables that meet certain conditions Define suffix which is used to define what variables should be dropped compeltely from your SDTM. The specification will keep these variabels as 'drop'."
   ]
  },
  {
   "cell_type": "code",
   "execution_count": 3,
   "metadata": {},
   "outputs": [],
   "source": [
    "sdtmmap=SDTMMapper.SDTMMapper('ae', bucket, KEY)"
   ]
  },
  {
   "cell_type": "markdown",
   "metadata": {},
   "source": [
    "Xt contains X for the models\n",
    "df is the dataframe = original - dropped"
   ]
  },
  {
   "cell_type": "code",
   "execution_count": 4,
   "metadata": {},
   "outputs": [],
   "source": [
    "suffix='.*_RAW$|.*_INT$|.*_STD$|.*_D{1,2}$|.*_M{1,2}$|.*_Y{1,4}|.*_CV$'\n",
    "trdropped, X_train, trdf= sdtmmap.drop_sys_vars('../train_data/ae_training.csv', 'rave', suffix)\n",
    "vdropped,  X_valid, vdf = sdtmmap.drop_sys_vars('../validation_data/ae_validation.csv', 'rave', suffix)\n",
    "tdropped,  X_test,  tdf = sdtmmap.drop_sys_vars('../test_data/ae_test_study.csv', 'rave', suffix)"
   ]
  },
  {
   "cell_type": "code",
   "execution_count": 5,
   "metadata": {},
   "outputs": [
    {
     "data": {
      "text/html": [
       "<div>\n",
       "<style scoped>\n",
       "    .dataframe tbody tr th:only-of-type {\n",
       "        vertical-align: middle;\n",
       "    }\n",
       "\n",
       "    .dataframe tbody tr th {\n",
       "        vertical-align: top;\n",
       "    }\n",
       "\n",
       "    .dataframe thead th {\n",
       "        text-align: right;\n",
       "    }\n",
       "</style>\n",
       "<table border=\"1\" class=\"dataframe\">\n",
       "  <thead>\n",
       "    <tr style=\"text-align: right;\">\n",
       "      <th></th>\n",
       "      <th>ID</th>\n",
       "      <th>text</th>\n",
       "      <th>sdtm</th>\n",
       "    </tr>\n",
       "  </thead>\n",
       "  <tbody>\n",
       "    <tr>\n",
       "      <th>0</th>\n",
       "      <td>xxx203.AE.AEACN</td>\n",
       "      <td>AEACN ACTION TAKEN WITH STUDY TREATMENT</td>\n",
       "      <td>AEACN</td>\n",
       "    </tr>\n",
       "    <tr>\n",
       "      <th>1</th>\n",
       "      <td>xxx203.AE.AETERM_LLT_CODE</td>\n",
       "      <td>AETERM LLT CODE AETERMLLT CODE</td>\n",
       "      <td>AELLTCD</td>\n",
       "    </tr>\n",
       "    <tr>\n",
       "      <th>2</th>\n",
       "      <td>xxx203.AE.AEONGO</td>\n",
       "      <td>AEONGO ONGOING</td>\n",
       "      <td>AEENRTPT</td>\n",
       "    </tr>\n",
       "    <tr>\n",
       "      <th>3</th>\n",
       "      <td>xxx203.AE.AESTND</td>\n",
       "      <td>AESTND AESTND</td>\n",
       "      <td>DROP</td>\n",
       "    </tr>\n",
       "    <tr>\n",
       "      <th>4</th>\n",
       "      <td>xxx203.AE.AEENDTC</td>\n",
       "      <td>AEENDTC END DATE (DD MMM YYYY)</td>\n",
       "      <td>AEENDTC</td>\n",
       "    </tr>\n",
       "  </tbody>\n",
       "</table>\n",
       "</div>"
      ],
      "text/plain": [
       "                          ID                                     text  \\\n",
       "0            xxx203.AE.AEACN  AEACN ACTION TAKEN WITH STUDY TREATMENT   \n",
       "1  xxx203.AE.AETERM_LLT_CODE           AETERM LLT CODE AETERMLLT CODE   \n",
       "2           xxx203.AE.AEONGO                           AEONGO ONGOING   \n",
       "3           xxx203.AE.AESTND                            AESTND AESTND   \n",
       "4          xxx203.AE.AEENDTC           AEENDTC END DATE (DD MMM YYYY)   \n",
       "\n",
       "       sdtm  \n",
       "0     AEACN  \n",
       "1   AELLTCD  \n",
       "2  AEENRTPT  \n",
       "3      DROP  \n",
       "4   AEENDTC  "
      ]
     },
     "execution_count": 5,
     "metadata": {},
     "output_type": "execute_result"
    }
   ],
   "source": [
    "trdf.head()"
   ]
  },
  {
   "cell_type": "markdown",
   "metadata": {},
   "source": [
    "- Encode `Y` which contains sdtm variables fro training, validation, and testing\n",
    "- Encoding can be decoded with `sdtmmap.decode_sdtm_target(Y)` later"
   ]
  },
  {
   "cell_type": "code",
   "execution_count": 6,
   "metadata": {},
   "outputs": [],
   "source": [
    "y_train = sdtmmap.encode_sdtm_target(trdf['sdtm'].str.upper(), 'train_encode')\n",
    "y_valid = sdtmmap.encode_sdtm_target(vdf['sdtm'].str.upper(), 'valid_encode')\n",
    "y_test  = sdtmmap.encode_sdtm_target(tdf['sdtm'].str.upper(), 'test_encode')"
   ]
  },
  {
   "cell_type": "code",
   "execution_count": 7,
   "metadata": {},
   "outputs": [
    {
     "name": "stdout",
     "output_type": "stream",
     "text": [
      "extra in training:    []\n",
      "extra in validation:  []\n"
     ]
    }
   ],
   "source": [
    "#Check any difference in classes for training and validation set\n",
    "print(\"extra in training:   \",[i for i in set(trdf['sdtm']) if i not in  set(vdf['sdtm'])])\n",
    "print(\"extra in validation: \",[i for i in set(vdf['sdtm']) if i not in  set(trdf['sdtm'])])"
   ]
  },
  {
   "cell_type": "code",
   "execution_count": 8,
   "metadata": {},
   "outputs": [
    {
     "name": "stdout",
     "output_type": "stream",
     "text": [
      "Number of classes in training:  34\n",
      "Number of classes in validation:  34\n"
     ]
    }
   ],
   "source": [
    "shape=len(set(trdf['sdtm']))\n",
    "print(\"Number of classes in training: \",shape)\n",
    "shape=len(set(vdf['sdtm']))\n",
    "print(\"Number of classes in validation: \",shape)"
   ]
  },
  {
   "cell_type": "markdown",
   "metadata": {},
   "source": [
    "No need to do below\n",
    ">- Clean ID variable (you may not need to do this)\n",
    ">\n",
    "> - Before cleaning:<br>\n",
    ">   `xxx203.AE.AEACN`\n",
    "> - After cleaning:<br>\n",
    ">   `AEACN`\n",
    ">\n",
    ">- Create X which contains SAS variable names and SAS variable labels\n",
    ">`df['ID']=df['ID'].str.replace('.*\\..*\\.','')`\n",
    ">`X=df['ID'].str.lower()+\" \"+df['text'].str.lower()`"
   ]
  },
  {
   "cell_type": "markdown",
   "metadata": {},
   "source": [
    "### Train and validate\n",
    "\n",
    "X_train and y_train will be used for Training. \n",
    "\n",
    "X_valid and y_valid will be used for validation. \n",
    "\n",
    "18 studies for Training, 3 studies for Validation"
   ]
  },
  {
   "cell_type": "code",
   "execution_count": 9,
   "metadata": {},
   "outputs": [],
   "source": [
    "X_train = np.array(X_train, dtype=object)[:, np.newaxis]\n",
    "X_valid = np.array(X_valid, dtype=object)[:, np.newaxis]\n",
    "X_test = np.array(X_test, dtype=object)[:, np.newaxis]"
   ]
  },
  {
   "cell_type": "code",
   "execution_count": 10,
   "metadata": {},
   "outputs": [
    {
     "data": {
      "text/plain": [
       "((584, 1), (100, 1))"
      ]
     },
     "execution_count": 10,
     "metadata": {},
     "output_type": "execute_result"
    }
   ],
   "source": [
    "X_train.shape, X_valid.shape"
   ]
  },
  {
   "cell_type": "code",
   "execution_count": 11,
   "metadata": {},
   "outputs": [],
   "source": [
    "#df=np.array(df.iloc[:,1], dtype=object)[:, np.newaxis]"
   ]
  },
  {
   "cell_type": "code",
   "execution_count": 12,
   "metadata": {},
   "outputs": [
    {
     "name": "stdout",
     "output_type": "stream",
     "text": [
      "INFO:tensorflow:Using /tmp/tfhub_modules to cache modules.\n",
      "INFO:tensorflow:Saver not created because there are no variables in the graph to restore\n"
     ]
    }
   ],
   "source": [
    "models=SDTMModels.SDTMModels('ae', shape)\n",
    "model1 = models.build_model(1, False)"
   ]
  },
  {
   "cell_type": "code",
   "execution_count": 13,
   "metadata": {},
   "outputs": [
    {
     "name": "stdout",
     "output_type": "stream",
     "text": [
      "Train on 584 samples, validate on 100 samples\n",
      "Epoch 1/5\n",
      "584/584 [==============================] - 44s 75ms/step - loss: 2.8358 - acc: 0.3014 - val_loss: 1.7073 - val_acc: 0.7000\n",
      "\n",
      "Epoch 00001: val_acc improved from -inf to 0.70000, saving model to checkpoint/chkpt_Elmo+sfnn+ae+Model1.hdf5\n",
      "Epoch 2/5\n",
      "584/584 [==============================] - 41s 70ms/step - loss: 1.5228 - acc: 0.6455 - val_loss: 0.8403 - val_acc: 0.8700\n",
      "\n",
      "Epoch 00002: val_acc improved from 0.70000 to 0.87000, saving model to checkpoint/chkpt_Elmo+sfnn+ae+Model1.hdf5\n",
      "Epoch 3/5\n",
      "584/584 [==============================] - 43s 73ms/step - loss: 0.9001 - acc: 0.7945 - val_loss: 0.4695 - val_acc: 0.8800\n",
      "\n",
      "Epoch 00003: val_acc improved from 0.87000 to 0.88000, saving model to checkpoint/chkpt_Elmo+sfnn+ae+Model1.hdf5\n",
      "Epoch 4/5\n",
      "584/584 [==============================] - 48s 82ms/step - loss: 0.5774 - acc: 0.8699 - val_loss: 0.3030 - val_acc: 0.9700\n",
      "\n",
      "Epoch 00004: val_acc improved from 0.88000 to 0.97000, saving model to checkpoint/chkpt_Elmo+sfnn+ae+Model1.hdf5\n",
      "Epoch 5/5\n",
      "584/584 [==============================] - 44s 76ms/step - loss: 0.4190 - acc: 0.9229 - val_loss: 0.2225 - val_acc: 0.9900\n",
      "\n",
      "Epoch 00005: val_acc improved from 0.97000 to 0.99000, saving model to checkpoint/chkpt_Elmo+sfnn+ae+Model1.hdf5\n"
     ]
    }
   ],
   "source": [
    "filepath='checkpoint/chkpt_Elmo+sfnn+ae+Model1.hdf5'\n",
    "\n",
    "checkpointer = ModelCheckpoint(filepath, monitor='val_acc', verbose=1, save_best_only=True, mode='max')\n",
    "\n",
    "history = model1.fit(X_train, y=y_train, batch_size=32, verbose=1, validation_data=(X_valid,y_valid), \n",
    "          shuffle=True, epochs=5, callbacks=[checkpointer])"
   ]
  },
  {
   "cell_type": "code",
   "execution_count": 14,
   "metadata": {},
   "outputs": [],
   "source": [
    "model1.save('../model/Elmo+sfnn+ae+Model1.h5')"
   ]
  },
  {
   "cell_type": "markdown",
   "metadata": {},
   "source": [
    "# Test Results"
   ]
  },
  {
   "cell_type": "code",
   "execution_count": 16,
   "metadata": {},
   "outputs": [
    {
     "name": "stdout",
     "output_type": "stream",
     "text": [
      "macro acc:  0.9080459770114943\n"
     ]
    }
   ],
   "source": [
    "def macro_acc_test_data(model, X_=X_test, testdf=tdf, droppeddf=tdropped ):\n",
    "    \n",
    "    predictions = model1.predict(X_)\n",
    "    testdf['pred']=sdtmmap.decode_sdtm_target(predictions, 'train_encode')\n",
    "    df=sdtmmap.add_drop(testdf,droppeddf)\n",
    "    return df, sum(df['sdtm']==df['pred'])/len(df)\n",
    "\n",
    "df, acc=macro_acc_test_data(model1)\n",
    "print(\"macro acc: \",acc)"
   ]
  },
  {
   "cell_type": "markdown",
   "metadata": {},
   "source": [
    "### Check where the model made mistake"
   ]
  },
  {
   "cell_type": "code",
   "execution_count": 17,
   "metadata": {},
   "outputs": [
    {
     "data": {
      "text/html": [
       "<div>\n",
       "<style scoped>\n",
       "    .dataframe tbody tr th:only-of-type {\n",
       "        vertical-align: middle;\n",
       "    }\n",
       "\n",
       "    .dataframe tbody tr th {\n",
       "        vertical-align: top;\n",
       "    }\n",
       "\n",
       "    .dataframe thead th {\n",
       "        text-align: right;\n",
       "    }\n",
       "</style>\n",
       "<table border=\"1\" class=\"dataframe\">\n",
       "  <thead>\n",
       "    <tr style=\"text-align: right;\">\n",
       "      <th></th>\n",
       "      <th>ID</th>\n",
       "      <th>text</th>\n",
       "      <th>sdtm</th>\n",
       "      <th>pred</th>\n",
       "    </tr>\n",
       "  </thead>\n",
       "  <tbody>\n",
       "    <tr>\n",
       "      <th>4</th>\n",
       "      <td>LLT_NAME</td>\n",
       "      <td>LLT_NAME LLT_NAME</td>\n",
       "      <td>AELLT</td>\n",
       "      <td>DROP</td>\n",
       "    </tr>\n",
       "    <tr>\n",
       "      <th>5</th>\n",
       "      <td>LLT_CODE</td>\n",
       "      <td>LLT_CODE LLT_CODE</td>\n",
       "      <td>AELLTCD</td>\n",
       "      <td>DROP</td>\n",
       "    </tr>\n",
       "    <tr>\n",
       "      <th>7</th>\n",
       "      <td>PT_CODE</td>\n",
       "      <td>PT_CODE PT_CODE</td>\n",
       "      <td>AEPTCD</td>\n",
       "      <td>DROP</td>\n",
       "    </tr>\n",
       "    <tr>\n",
       "      <th>8</th>\n",
       "      <td>HLT_NAME</td>\n",
       "      <td>HLT_NAME HLT_NAME</td>\n",
       "      <td>AEHLT</td>\n",
       "      <td>DROP</td>\n",
       "    </tr>\n",
       "    <tr>\n",
       "      <th>9</th>\n",
       "      <td>HLT_CODE</td>\n",
       "      <td>HLT_CODE HLT_CODE</td>\n",
       "      <td>AEHLTCD</td>\n",
       "      <td>AEHLGT</td>\n",
       "    </tr>\n",
       "    <tr>\n",
       "      <th>13</th>\n",
       "      <td>SOC_CODE</td>\n",
       "      <td>SOC_CODE SOC_CODE</td>\n",
       "      <td>AESOCCD</td>\n",
       "      <td>DROP</td>\n",
       "    </tr>\n",
       "    <tr>\n",
       "      <th>17</th>\n",
       "      <td>AEENTIM</td>\n",
       "      <td>AEENTIM Stop Time</td>\n",
       "      <td>AEENDTC_TM</td>\n",
       "      <td>DROP</td>\n",
       "    </tr>\n",
       "    <tr>\n",
       "      <th>32</th>\n",
       "      <td>AESTTIMU</td>\n",
       "      <td>AESTTIMU Start Time Unknown</td>\n",
       "      <td>DROP</td>\n",
       "      <td>AESTDTC_TM</td>\n",
       "    </tr>\n",
       "  </tbody>\n",
       "</table>\n",
       "</div>"
      ],
      "text/plain": [
       "          ID                         text        sdtm        pred\n",
       "4   LLT_NAME            LLT_NAME LLT_NAME       AELLT        DROP\n",
       "5   LLT_CODE            LLT_CODE LLT_CODE     AELLTCD        DROP\n",
       "7    PT_CODE              PT_CODE PT_CODE      AEPTCD        DROP\n",
       "8   HLT_NAME            HLT_NAME HLT_NAME       AEHLT        DROP\n",
       "9   HLT_CODE            HLT_CODE HLT_CODE     AEHLTCD      AEHLGT\n",
       "13  SOC_CODE            SOC_CODE SOC_CODE     AESOCCD        DROP\n",
       "17   AEENTIM            AEENTIM Stop Time  AEENDTC_TM        DROP\n",
       "32  AESTTIMU  AESTTIMU Start Time Unknown        DROP  AESTDTC_TM"
      ]
     },
     "execution_count": 17,
     "metadata": {},
     "output_type": "execute_result"
    }
   ],
   "source": [
    "df[df['sdtm']!=df['pred']]"
   ]
  },
  {
   "cell_type": "code",
   "execution_count": 18,
   "metadata": {},
   "outputs": [
    {
     "data": {
      "text/html": [
       "<div>\n",
       "<style scoped>\n",
       "    .dataframe tbody tr th:only-of-type {\n",
       "        vertical-align: middle;\n",
       "    }\n",
       "\n",
       "    .dataframe tbody tr th {\n",
       "        vertical-align: top;\n",
       "    }\n",
       "\n",
       "    .dataframe thead th {\n",
       "        text-align: right;\n",
       "    }\n",
       "</style>\n",
       "<table border=\"1\" class=\"dataframe\">\n",
       "  <thead>\n",
       "    <tr style=\"text-align: right;\">\n",
       "      <th></th>\n",
       "      <th>ID</th>\n",
       "      <th>text</th>\n",
       "      <th>sdtm</th>\n",
       "      <th>pred</th>\n",
       "    </tr>\n",
       "  </thead>\n",
       "  <tbody>\n",
       "    <tr>\n",
       "      <th>0</th>\n",
       "      <td>SUBJECT</td>\n",
       "      <td>SUBJECT Subject name or identifier</td>\n",
       "      <td>SUBJID</td>\n",
       "      <td>SUBJID</td>\n",
       "    </tr>\n",
       "    <tr>\n",
       "      <th>1</th>\n",
       "      <td>INSTANCENAME</td>\n",
       "      <td>INSTANCENAME Folder instance name</td>\n",
       "      <td>DROP</td>\n",
       "      <td>DROP</td>\n",
       "    </tr>\n",
       "    <tr>\n",
       "      <th>2</th>\n",
       "      <td>AETERM</td>\n",
       "      <td>AETERM Reported Term for the Adverse Event</td>\n",
       "      <td>AETERM</td>\n",
       "      <td>AETERM</td>\n",
       "    </tr>\n",
       "    <tr>\n",
       "      <th>3</th>\n",
       "      <td>VMEDDRA</td>\n",
       "      <td>VMEDDRA MedDRA Version Num</td>\n",
       "      <td>DROP</td>\n",
       "      <td>DROP</td>\n",
       "    </tr>\n",
       "    <tr>\n",
       "      <th>4</th>\n",
       "      <td>LLT_NAME</td>\n",
       "      <td>LLT_NAME LLT_NAME</td>\n",
       "      <td>AELLT</td>\n",
       "      <td>DROP</td>\n",
       "    </tr>\n",
       "  </tbody>\n",
       "</table>\n",
       "</div>"
      ],
      "text/plain": [
       "             ID                                        text    sdtm    pred\n",
       "0       SUBJECT          SUBJECT Subject name or identifier  SUBJID  SUBJID\n",
       "1  INSTANCENAME           INSTANCENAME Folder instance name    DROP    DROP\n",
       "2        AETERM  AETERM Reported Term for the Adverse Event  AETERM  AETERM\n",
       "3       VMEDDRA                  VMEDDRA MedDRA Version Num    DROP    DROP\n",
       "4      LLT_NAME                           LLT_NAME LLT_NAME   AELLT    DROP"
      ]
     },
     "execution_count": 18,
     "metadata": {},
     "output_type": "execute_result"
    }
   ],
   "source": [
    "df.head()"
   ]
  },
  {
   "cell_type": "code",
   "execution_count": 19,
   "metadata": {},
   "outputs": [],
   "source": [
    "tf.keras.backend.clear_session()\n"
   ]
  },
  {
   "cell_type": "code",
   "execution_count": null,
   "metadata": {},
   "outputs": [],
   "source": []
  }
 ],
 "metadata": {
  "kernelspec": {
   "display_name": "conda_tensorflow_p36",
   "language": "python",
   "name": "conda_tensorflow_p36"
  },
  "language_info": {
   "codemirror_mode": {
    "name": "ipython",
    "version": 3
   },
   "file_extension": ".py",
   "mimetype": "text/x-python",
   "name": "python",
   "nbconvert_exporter": "python",
   "pygments_lexer": "ipython3",
   "version": "3.6.5"
  }
 },
 "nbformat": 4,
 "nbformat_minor": 2
}
